{
  "nbformat": 4,
  "nbformat_minor": 0,
  "metadata": {
    "colab": {
      "provenance": [],
      "gpuType": "T4"
    },
    "kernelspec": {
      "name": "python3",
      "display_name": "Python 3"
    },
    "language_info": {
      "name": "python"
    },
    "accelerator": "GPU",
    "widgets": {
      "application/vnd.jupyter.widget-state+json": {
        "6cde160637aa4414a6d3a37b3b236d91": {
          "model_module": "@jupyter-widgets/controls",
          "model_name": "HBoxModel",
          "model_module_version": "1.5.0",
          "state": {
            "_dom_classes": [],
            "_model_module": "@jupyter-widgets/controls",
            "_model_module_version": "1.5.0",
            "_model_name": "HBoxModel",
            "_view_count": null,
            "_view_module": "@jupyter-widgets/controls",
            "_view_module_version": "1.5.0",
            "_view_name": "HBoxView",
            "box_style": "",
            "children": [
              "IPY_MODEL_c08ac9bd91f24e64a096115992cd6156",
              "IPY_MODEL_4873df0a42004bf49aa0b986c7eda9d4",
              "IPY_MODEL_7814a8eaa2d04487a36fac25f27d78b5"
            ],
            "layout": "IPY_MODEL_1864622247de44328575dc7395df705c"
          }
        },
        "c08ac9bd91f24e64a096115992cd6156": {
          "model_module": "@jupyter-widgets/controls",
          "model_name": "HTMLModel",
          "model_module_version": "1.5.0",
          "state": {
            "_dom_classes": [],
            "_model_module": "@jupyter-widgets/controls",
            "_model_module_version": "1.5.0",
            "_model_name": "HTMLModel",
            "_view_count": null,
            "_view_module": "@jupyter-widgets/controls",
            "_view_module_version": "1.5.0",
            "_view_name": "HTMLView",
            "description": "",
            "description_tooltip": null,
            "layout": "IPY_MODEL_99a2c838c0284d57892693720d524a5f",
            "placeholder": "​",
            "style": "IPY_MODEL_e1ff7fd0de184b63addd74372c9da193",
            "value": "Encoding documents (bs=32): 100%"
          }
        },
        "4873df0a42004bf49aa0b986c7eda9d4": {
          "model_module": "@jupyter-widgets/controls",
          "model_name": "FloatProgressModel",
          "model_module_version": "1.5.0",
          "state": {
            "_dom_classes": [],
            "_model_module": "@jupyter-widgets/controls",
            "_model_module_version": "1.5.0",
            "_model_name": "FloatProgressModel",
            "_view_count": null,
            "_view_module": "@jupyter-widgets/controls",
            "_view_module_version": "1.5.0",
            "_view_name": "ProgressView",
            "bar_style": "success",
            "description": "",
            "description_tooltip": null,
            "layout": "IPY_MODEL_e122358345f14d4a9fd2a9bff35772c2",
            "max": 26,
            "min": 0,
            "orientation": "horizontal",
            "style": "IPY_MODEL_dcf008c85f7241debcf55b7690bb7953",
            "value": 26
          }
        },
        "7814a8eaa2d04487a36fac25f27d78b5": {
          "model_module": "@jupyter-widgets/controls",
          "model_name": "HTMLModel",
          "model_module_version": "1.5.0",
          "state": {
            "_dom_classes": [],
            "_model_module": "@jupyter-widgets/controls",
            "_model_module_version": "1.5.0",
            "_model_name": "HTMLModel",
            "_view_count": null,
            "_view_module": "@jupyter-widgets/controls",
            "_view_module_version": "1.5.0",
            "_view_name": "HTMLView",
            "description": "",
            "description_tooltip": null,
            "layout": "IPY_MODEL_6d8acf247b0f4377bf79f95705b813fd",
            "placeholder": "​",
            "style": "IPY_MODEL_b7f09cecdf6147b194e5496409844975",
            "value": " 26/26 [00:01&lt;00:00, 26.56it/s]"
          }
        },
        "1864622247de44328575dc7395df705c": {
          "model_module": "@jupyter-widgets/base",
          "model_name": "LayoutModel",
          "model_module_version": "1.2.0",
          "state": {
            "_model_module": "@jupyter-widgets/base",
            "_model_module_version": "1.2.0",
            "_model_name": "LayoutModel",
            "_view_count": null,
            "_view_module": "@jupyter-widgets/base",
            "_view_module_version": "1.2.0",
            "_view_name": "LayoutView",
            "align_content": null,
            "align_items": null,
            "align_self": null,
            "border": null,
            "bottom": null,
            "display": null,
            "flex": null,
            "flex_flow": null,
            "grid_area": null,
            "grid_auto_columns": null,
            "grid_auto_flow": null,
            "grid_auto_rows": null,
            "grid_column": null,
            "grid_gap": null,
            "grid_row": null,
            "grid_template_areas": null,
            "grid_template_columns": null,
            "grid_template_rows": null,
            "height": null,
            "justify_content": null,
            "justify_items": null,
            "left": null,
            "margin": null,
            "max_height": null,
            "max_width": null,
            "min_height": null,
            "min_width": null,
            "object_fit": null,
            "object_position": null,
            "order": null,
            "overflow": null,
            "overflow_x": null,
            "overflow_y": null,
            "padding": null,
            "right": null,
            "top": null,
            "visibility": null,
            "width": null
          }
        },
        "99a2c838c0284d57892693720d524a5f": {
          "model_module": "@jupyter-widgets/base",
          "model_name": "LayoutModel",
          "model_module_version": "1.2.0",
          "state": {
            "_model_module": "@jupyter-widgets/base",
            "_model_module_version": "1.2.0",
            "_model_name": "LayoutModel",
            "_view_count": null,
            "_view_module": "@jupyter-widgets/base",
            "_view_module_version": "1.2.0",
            "_view_name": "LayoutView",
            "align_content": null,
            "align_items": null,
            "align_self": null,
            "border": null,
            "bottom": null,
            "display": null,
            "flex": null,
            "flex_flow": null,
            "grid_area": null,
            "grid_auto_columns": null,
            "grid_auto_flow": null,
            "grid_auto_rows": null,
            "grid_column": null,
            "grid_gap": null,
            "grid_row": null,
            "grid_template_areas": null,
            "grid_template_columns": null,
            "grid_template_rows": null,
            "height": null,
            "justify_content": null,
            "justify_items": null,
            "left": null,
            "margin": null,
            "max_height": null,
            "max_width": null,
            "min_height": null,
            "min_width": null,
            "object_fit": null,
            "object_position": null,
            "order": null,
            "overflow": null,
            "overflow_x": null,
            "overflow_y": null,
            "padding": null,
            "right": null,
            "top": null,
            "visibility": null,
            "width": null
          }
        },
        "e1ff7fd0de184b63addd74372c9da193": {
          "model_module": "@jupyter-widgets/controls",
          "model_name": "DescriptionStyleModel",
          "model_module_version": "1.5.0",
          "state": {
            "_model_module": "@jupyter-widgets/controls",
            "_model_module_version": "1.5.0",
            "_model_name": "DescriptionStyleModel",
            "_view_count": null,
            "_view_module": "@jupyter-widgets/base",
            "_view_module_version": "1.2.0",
            "_view_name": "StyleView",
            "description_width": ""
          }
        },
        "e122358345f14d4a9fd2a9bff35772c2": {
          "model_module": "@jupyter-widgets/base",
          "model_name": "LayoutModel",
          "model_module_version": "1.2.0",
          "state": {
            "_model_module": "@jupyter-widgets/base",
            "_model_module_version": "1.2.0",
            "_model_name": "LayoutModel",
            "_view_count": null,
            "_view_module": "@jupyter-widgets/base",
            "_view_module_version": "1.2.0",
            "_view_name": "LayoutView",
            "align_content": null,
            "align_items": null,
            "align_self": null,
            "border": null,
            "bottom": null,
            "display": null,
            "flex": null,
            "flex_flow": null,
            "grid_area": null,
            "grid_auto_columns": null,
            "grid_auto_flow": null,
            "grid_auto_rows": null,
            "grid_column": null,
            "grid_gap": null,
            "grid_row": null,
            "grid_template_areas": null,
            "grid_template_columns": null,
            "grid_template_rows": null,
            "height": null,
            "justify_content": null,
            "justify_items": null,
            "left": null,
            "margin": null,
            "max_height": null,
            "max_width": null,
            "min_height": null,
            "min_width": null,
            "object_fit": null,
            "object_position": null,
            "order": null,
            "overflow": null,
            "overflow_x": null,
            "overflow_y": null,
            "padding": null,
            "right": null,
            "top": null,
            "visibility": null,
            "width": null
          }
        },
        "dcf008c85f7241debcf55b7690bb7953": {
          "model_module": "@jupyter-widgets/controls",
          "model_name": "ProgressStyleModel",
          "model_module_version": "1.5.0",
          "state": {
            "_model_module": "@jupyter-widgets/controls",
            "_model_module_version": "1.5.0",
            "_model_name": "ProgressStyleModel",
            "_view_count": null,
            "_view_module": "@jupyter-widgets/base",
            "_view_module_version": "1.2.0",
            "_view_name": "StyleView",
            "bar_color": null,
            "description_width": ""
          }
        },
        "6d8acf247b0f4377bf79f95705b813fd": {
          "model_module": "@jupyter-widgets/base",
          "model_name": "LayoutModel",
          "model_module_version": "1.2.0",
          "state": {
            "_model_module": "@jupyter-widgets/base",
            "_model_module_version": "1.2.0",
            "_model_name": "LayoutModel",
            "_view_count": null,
            "_view_module": "@jupyter-widgets/base",
            "_view_module_version": "1.2.0",
            "_view_name": "LayoutView",
            "align_content": null,
            "align_items": null,
            "align_self": null,
            "border": null,
            "bottom": null,
            "display": null,
            "flex": null,
            "flex_flow": null,
            "grid_area": null,
            "grid_auto_columns": null,
            "grid_auto_flow": null,
            "grid_auto_rows": null,
            "grid_column": null,
            "grid_gap": null,
            "grid_row": null,
            "grid_template_areas": null,
            "grid_template_columns": null,
            "grid_template_rows": null,
            "height": null,
            "justify_content": null,
            "justify_items": null,
            "left": null,
            "margin": null,
            "max_height": null,
            "max_width": null,
            "min_height": null,
            "min_width": null,
            "object_fit": null,
            "object_position": null,
            "order": null,
            "overflow": null,
            "overflow_x": null,
            "overflow_y": null,
            "padding": null,
            "right": null,
            "top": null,
            "visibility": null,
            "width": null
          }
        },
        "b7f09cecdf6147b194e5496409844975": {
          "model_module": "@jupyter-widgets/controls",
          "model_name": "DescriptionStyleModel",
          "model_module_version": "1.5.0",
          "state": {
            "_model_module": "@jupyter-widgets/controls",
            "_model_module_version": "1.5.0",
            "_model_name": "DescriptionStyleModel",
            "_view_count": null,
            "_view_module": "@jupyter-widgets/base",
            "_view_module_version": "1.2.0",
            "_view_name": "StyleView",
            "description_width": ""
          }
        }
      }
    }
  },
  "cells": [
    {
      "cell_type": "code",
      "execution_count": 26,
      "metadata": {
        "colab": {
          "base_uri": "https://localhost:8080/"
        },
        "id": "ktqaz5-Q9vxC",
        "outputId": "aba0b290-c710-4083-9778-3f0c71106816"
      },
      "outputs": [
        {
          "output_type": "stream",
          "name": "stdout",
          "text": [
            "Requirement already satisfied: pylate in /usr/local/lib/python3.12/dist-packages (1.3.4)\n",
            "Requirement already satisfied: sentence-transformers==5.1.1 in /usr/local/lib/python3.12/dist-packages (from pylate) (5.1.1)\n",
            "Requirement already satisfied: datasets>=2.20.0 in /usr/local/lib/python3.12/dist-packages (from pylate) (4.0.0)\n",
            "Requirement already satisfied: accelerate>=0.31.0 in /usr/local/lib/python3.12/dist-packages (from pylate) (1.10.1)\n",
            "Requirement already satisfied: voyager>=2.0.9 in /usr/local/lib/python3.12/dist-packages (from pylate) (2.1.0)\n",
            "Requirement already satisfied: sqlitedict>=2.1.0 in /usr/local/lib/python3.12/dist-packages (from pylate) (2.1.0)\n",
            "Requirement already satisfied: pandas>=2.2.1 in /usr/local/lib/python3.12/dist-packages (from pylate) (2.2.2)\n",
            "Requirement already satisfied: transformers<=4.56.2,>=4.41.0 in /usr/local/lib/python3.12/dist-packages (from pylate) (4.56.2)\n",
            "Requirement already satisfied: ujson==5.10.0 in /usr/local/lib/python3.12/dist-packages (from pylate) (5.10.0)\n",
            "Requirement already satisfied: ninja==1.11.1.4 in /usr/local/lib/python3.12/dist-packages (from pylate) (1.11.1.4)\n",
            "Requirement already satisfied: fastkmeans==0.5.0 in /usr/local/lib/python3.12/dist-packages (from pylate) (0.5.0)\n",
            "Requirement already satisfied: fast-plaid<=1.2.4.280,>=1.2.4.260 in /usr/local/lib/python3.12/dist-packages (from pylate) (1.2.4.280)\n",
            "Requirement already satisfied: torch in /usr/local/lib/python3.12/dist-packages (from fastkmeans==0.5.0->pylate) (2.8.0+cu126)\n",
            "Requirement already satisfied: numpy in /usr/local/lib/python3.12/dist-packages (from fastkmeans==0.5.0->pylate) (2.0.2)\n",
            "Requirement already satisfied: tqdm in /usr/local/lib/python3.12/dist-packages (from sentence-transformers==5.1.1->pylate) (4.67.1)\n",
            "Requirement already satisfied: scikit-learn in /usr/local/lib/python3.12/dist-packages (from sentence-transformers==5.1.1->pylate) (1.6.1)\n",
            "Requirement already satisfied: scipy in /usr/local/lib/python3.12/dist-packages (from sentence-transformers==5.1.1->pylate) (1.16.2)\n",
            "Requirement already satisfied: huggingface-hub>=0.20.0 in /usr/local/lib/python3.12/dist-packages (from sentence-transformers==5.1.1->pylate) (0.35.3)\n",
            "Requirement already satisfied: Pillow in /usr/local/lib/python3.12/dist-packages (from sentence-transformers==5.1.1->pylate) (11.3.0)\n",
            "Requirement already satisfied: typing_extensions>=4.5.0 in /usr/local/lib/python3.12/dist-packages (from sentence-transformers==5.1.1->pylate) (4.15.0)\n",
            "Requirement already satisfied: packaging>=20.0 in /usr/local/lib/python3.12/dist-packages (from accelerate>=0.31.0->pylate) (25.0)\n",
            "Requirement already satisfied: psutil in /usr/local/lib/python3.12/dist-packages (from accelerate>=0.31.0->pylate) (5.9.5)\n",
            "Requirement already satisfied: pyyaml in /usr/local/lib/python3.12/dist-packages (from accelerate>=0.31.0->pylate) (6.0.3)\n",
            "Requirement already satisfied: safetensors>=0.4.3 in /usr/local/lib/python3.12/dist-packages (from accelerate>=0.31.0->pylate) (0.6.2)\n",
            "Requirement already satisfied: filelock in /usr/local/lib/python3.12/dist-packages (from datasets>=2.20.0->pylate) (3.20.0)\n",
            "Requirement already satisfied: pyarrow>=15.0.0 in /usr/local/lib/python3.12/dist-packages (from datasets>=2.20.0->pylate) (18.1.0)\n",
            "Requirement already satisfied: dill<0.3.9,>=0.3.0 in /usr/local/lib/python3.12/dist-packages (from datasets>=2.20.0->pylate) (0.3.8)\n",
            "Requirement already satisfied: requests>=2.32.2 in /usr/local/lib/python3.12/dist-packages (from datasets>=2.20.0->pylate) (2.32.4)\n",
            "Requirement already satisfied: xxhash in /usr/local/lib/python3.12/dist-packages (from datasets>=2.20.0->pylate) (3.6.0)\n",
            "Requirement already satisfied: multiprocess<0.70.17 in /usr/local/lib/python3.12/dist-packages (from datasets>=2.20.0->pylate) (0.70.16)\n",
            "Requirement already satisfied: fsspec<=2025.3.0,>=2023.1.0 in /usr/local/lib/python3.12/dist-packages (from fsspec[http]<=2025.3.0,>=2023.1.0->datasets>=2.20.0->pylate) (2025.3.0)\n",
            "Requirement already satisfied: joblib>=1.5.1 in /usr/local/lib/python3.12/dist-packages (from fast-plaid<=1.2.4.280,>=1.2.4.260->pylate) (1.5.2)\n",
            "Requirement already satisfied: maturin>=1.8.6 in /usr/local/lib/python3.12/dist-packages (from fast-plaid<=1.2.4.280,>=1.2.4.260->pylate) (1.9.6)\n",
            "Requirement already satisfied: setuptools>=78.1.1 in /usr/local/lib/python3.12/dist-packages (from fast-plaid<=1.2.4.280,>=1.2.4.260->pylate) (80.9.0)\n",
            "Requirement already satisfied: sympy>=1.13.3 in /usr/local/lib/python3.12/dist-packages (from torch->fastkmeans==0.5.0->pylate) (1.13.3)\n",
            "Requirement already satisfied: networkx in /usr/local/lib/python3.12/dist-packages (from torch->fastkmeans==0.5.0->pylate) (3.5)\n",
            "Requirement already satisfied: jinja2 in /usr/local/lib/python3.12/dist-packages (from torch->fastkmeans==0.5.0->pylate) (3.1.6)\n",
            "Requirement already satisfied: nvidia-cuda-nvrtc-cu12==12.6.77 in /usr/local/lib/python3.12/dist-packages (from torch->fastkmeans==0.5.0->pylate) (12.6.77)\n",
            "Requirement already satisfied: nvidia-cuda-runtime-cu12==12.6.77 in /usr/local/lib/python3.12/dist-packages (from torch->fastkmeans==0.5.0->pylate) (12.6.77)\n",
            "Requirement already satisfied: nvidia-cuda-cupti-cu12==12.6.80 in /usr/local/lib/python3.12/dist-packages (from torch->fastkmeans==0.5.0->pylate) (12.6.80)\n",
            "Requirement already satisfied: nvidia-cudnn-cu12==9.10.2.21 in /usr/local/lib/python3.12/dist-packages (from torch->fastkmeans==0.5.0->pylate) (9.10.2.21)\n",
            "Requirement already satisfied: nvidia-cublas-cu12==12.6.4.1 in /usr/local/lib/python3.12/dist-packages (from torch->fastkmeans==0.5.0->pylate) (12.6.4.1)\n",
            "Requirement already satisfied: nvidia-cufft-cu12==11.3.0.4 in /usr/local/lib/python3.12/dist-packages (from torch->fastkmeans==0.5.0->pylate) (11.3.0.4)\n",
            "Requirement already satisfied: nvidia-curand-cu12==10.3.7.77 in /usr/local/lib/python3.12/dist-packages (from torch->fastkmeans==0.5.0->pylate) (10.3.7.77)\n",
            "Requirement already satisfied: nvidia-cusolver-cu12==11.7.1.2 in /usr/local/lib/python3.12/dist-packages (from torch->fastkmeans==0.5.0->pylate) (11.7.1.2)\n",
            "Requirement already satisfied: nvidia-cusparse-cu12==12.5.4.2 in /usr/local/lib/python3.12/dist-packages (from torch->fastkmeans==0.5.0->pylate) (12.5.4.2)\n",
            "Requirement already satisfied: nvidia-cusparselt-cu12==0.7.1 in /usr/local/lib/python3.12/dist-packages (from torch->fastkmeans==0.5.0->pylate) (0.7.1)\n",
            "Requirement already satisfied: nvidia-nccl-cu12==2.27.3 in /usr/local/lib/python3.12/dist-packages (from torch->fastkmeans==0.5.0->pylate) (2.27.3)\n",
            "Requirement already satisfied: nvidia-nvtx-cu12==12.6.77 in /usr/local/lib/python3.12/dist-packages (from torch->fastkmeans==0.5.0->pylate) (12.6.77)\n",
            "Requirement already satisfied: nvidia-nvjitlink-cu12==12.6.85 in /usr/local/lib/python3.12/dist-packages (from torch->fastkmeans==0.5.0->pylate) (12.6.85)\n",
            "Requirement already satisfied: nvidia-cufile-cu12==1.11.1.6 in /usr/local/lib/python3.12/dist-packages (from torch->fastkmeans==0.5.0->pylate) (1.11.1.6)\n",
            "Requirement already satisfied: triton==3.4.0 in /usr/local/lib/python3.12/dist-packages (from torch->fastkmeans==0.5.0->pylate) (3.4.0)\n",
            "Requirement already satisfied: python-dateutil>=2.8.2 in /usr/local/lib/python3.12/dist-packages (from pandas>=2.2.1->pylate) (2.9.0.post0)\n",
            "Requirement already satisfied: pytz>=2020.1 in /usr/local/lib/python3.12/dist-packages (from pandas>=2.2.1->pylate) (2025.2)\n",
            "Requirement already satisfied: tzdata>=2022.7 in /usr/local/lib/python3.12/dist-packages (from pandas>=2.2.1->pylate) (2025.2)\n",
            "Requirement already satisfied: regex!=2019.12.17 in /usr/local/lib/python3.12/dist-packages (from transformers<=4.56.2,>=4.41.0->pylate) (2024.11.6)\n",
            "Requirement already satisfied: tokenizers<=0.23.0,>=0.22.0 in /usr/local/lib/python3.12/dist-packages (from transformers<=4.56.2,>=4.41.0->pylate) (0.22.1)\n",
            "Requirement already satisfied: aiohttp!=4.0.0a0,!=4.0.0a1 in /usr/local/lib/python3.12/dist-packages (from fsspec[http]<=2025.3.0,>=2023.1.0->datasets>=2.20.0->pylate) (3.13.0)\n",
            "Requirement already satisfied: hf-xet<2.0.0,>=1.1.3 in /usr/local/lib/python3.12/dist-packages (from huggingface-hub>=0.20.0->sentence-transformers==5.1.1->pylate) (1.1.10)\n",
            "Requirement already satisfied: six>=1.5 in /usr/local/lib/python3.12/dist-packages (from python-dateutil>=2.8.2->pandas>=2.2.1->pylate) (1.17.0)\n",
            "Requirement already satisfied: charset_normalizer<4,>=2 in /usr/local/lib/python3.12/dist-packages (from requests>=2.32.2->datasets>=2.20.0->pylate) (3.4.4)\n",
            "Requirement already satisfied: idna<4,>=2.5 in /usr/local/lib/python3.12/dist-packages (from requests>=2.32.2->datasets>=2.20.0->pylate) (3.11)\n",
            "Requirement already satisfied: urllib3<3,>=1.21.1 in /usr/local/lib/python3.12/dist-packages (from requests>=2.32.2->datasets>=2.20.0->pylate) (2.5.0)\n",
            "Requirement already satisfied: certifi>=2017.4.17 in /usr/local/lib/python3.12/dist-packages (from requests>=2.32.2->datasets>=2.20.0->pylate) (2025.10.5)\n",
            "Requirement already satisfied: threadpoolctl>=3.1.0 in /usr/local/lib/python3.12/dist-packages (from scikit-learn->sentence-transformers==5.1.1->pylate) (3.6.0)\n",
            "Requirement already satisfied: aiohappyeyeballs>=2.5.0 in /usr/local/lib/python3.12/dist-packages (from aiohttp!=4.0.0a0,!=4.0.0a1->fsspec[http]<=2025.3.0,>=2023.1.0->datasets>=2.20.0->pylate) (2.6.1)\n",
            "Requirement already satisfied: aiosignal>=1.4.0 in /usr/local/lib/python3.12/dist-packages (from aiohttp!=4.0.0a0,!=4.0.0a1->fsspec[http]<=2025.3.0,>=2023.1.0->datasets>=2.20.0->pylate) (1.4.0)\n",
            "Requirement already satisfied: attrs>=17.3.0 in /usr/local/lib/python3.12/dist-packages (from aiohttp!=4.0.0a0,!=4.0.0a1->fsspec[http]<=2025.3.0,>=2023.1.0->datasets>=2.20.0->pylate) (25.4.0)\n",
            "Requirement already satisfied: frozenlist>=1.1.1 in /usr/local/lib/python3.12/dist-packages (from aiohttp!=4.0.0a0,!=4.0.0a1->fsspec[http]<=2025.3.0,>=2023.1.0->datasets>=2.20.0->pylate) (1.8.0)\n",
            "Requirement already satisfied: multidict<7.0,>=4.5 in /usr/local/lib/python3.12/dist-packages (from aiohttp!=4.0.0a0,!=4.0.0a1->fsspec[http]<=2025.3.0,>=2023.1.0->datasets>=2.20.0->pylate) (6.7.0)\n",
            "Requirement already satisfied: propcache>=0.2.0 in /usr/local/lib/python3.12/dist-packages (from aiohttp!=4.0.0a0,!=4.0.0a1->fsspec[http]<=2025.3.0,>=2023.1.0->datasets>=2.20.0->pylate) (0.4.1)\n",
            "Requirement already satisfied: yarl<2.0,>=1.17.0 in /usr/local/lib/python3.12/dist-packages (from aiohttp!=4.0.0a0,!=4.0.0a1->fsspec[http]<=2025.3.0,>=2023.1.0->datasets>=2.20.0->pylate) (1.22.0)\n",
            "Requirement already satisfied: mpmath<1.4,>=1.1.0 in /usr/local/lib/python3.12/dist-packages (from sympy>=1.13.3->torch->fastkmeans==0.5.0->pylate) (1.3.0)\n",
            "Requirement already satisfied: MarkupSafe>=2.0 in /usr/local/lib/python3.12/dist-packages (from jinja2->torch->fastkmeans==0.5.0->pylate) (3.0.3)\n"
          ]
        }
      ],
      "source": [
        "!pip install pylate"
      ]
    },
    {
      "cell_type": "markdown",
      "source": [
        "# New Section"
      ],
      "metadata": {
        "id": "5mEFjozerRnO"
      }
    },
    {
      "cell_type": "markdown",
      "source": [
        "# **Import libraries**"
      ],
      "metadata": {
        "id": "miebnkk1-2GV"
      }
    },
    {
      "cell_type": "code",
      "source": [
        "import pandas as pd\n",
        "import json\n",
        "import re\n",
        "#from bs4 import BeautifulSoup\n",
        "import nltk\n",
        "import matplotlib.pyplot as plt\n",
        "from nltk.tokenize import word_tokenize\n",
        "from pylate import indexes, models, retrieve, rank"
      ],
      "metadata": {
        "id": "303CTQQK-8tl"
      },
      "execution_count": 27,
      "outputs": []
    },
    {
      "cell_type": "markdown",
      "source": [
        "# **Load Collection to Index**\n",
        "\n",
        "## Must be in 'tsv' file format where first column is docID/pid and second column is text"
      ],
      "metadata": {
        "id": "pfjQeM82-dfF"
      }
    },
    {
      "cell_type": "code",
      "source": [
        "collection = pd.read_csv(r'combined_collection_titles.tsv', sep='\\t', header=None, names=['docID', 'text', 'title'])\n",
        "collection['text'] = collection['text'].fillna('')\n",
        "collection['title'] = collection['title'].fillna('')"
      ],
      "metadata": {
        "id": "O4DAhB9I-l1n"
      },
      "execution_count": 28,
      "outputs": []
    },
    {
      "cell_type": "markdown",
      "source": [
        "# **Load User Records and Split bold text**\n",
        "\n",
        "# Split user's record into train (for profile generation) and test (records to test)"
      ],
      "metadata": {
        "id": "UOy2wEIE_LPH"
      }
    },
    {
      "cell_type": "code",
      "source": [
        "user_records = pd.read_csv('filtered_users_100_9.csv')\n",
        "# Initialize empty dataframes for train and test\n",
        "train_records = pd.DataFrame()\n",
        "test_records = pd.DataFrame()\n",
        "\n",
        "# For each user, split into train and test with a 70-30 ratio\n",
        "for user_id, user_data in user_records.groupby('AnonID'):\n",
        "    user_train = user_data.sample(frac=0.8, random_state=42)\n",
        "    user_test = user_data.drop(user_train.index)\n",
        "\n",
        "    train_records = pd.concat([train_records, user_train], ignore_index=True)\n",
        "    test_records = pd.concat([test_records, user_test], ignore_index=True)\n",
        "\n",
        "# Save train and test dataframes to CSV files\n",
        "train_records.to_csv('train_records.csv', index=False)\n",
        "test_records.to_csv('test_records.csv', index=False)"
      ],
      "metadata": {
        "id": "53XBXy_l_SP-"
      },
      "execution_count": 29,
      "outputs": []
    },
    {
      "cell_type": "markdown",
      "source": [
        "# **Filtering Docs to Index**\n",
        "\n",
        "# Only 'test' records queries will be searched in the index, so only documents in CandiList of test records are added to the index"
      ],
      "metadata": {
        "id": "4q7ruW8i_mhO"
      }
    },
    {
      "cell_type": "code",
      "source": [
        "# Extract docIDs from test_records CandiList\n",
        "test_docIDs = set()\n",
        "for candi_list in test_records['CandiList']:\n",
        "    # Parse the string into a list of docIDs\n",
        "    doc_ids = [doc.strip().strip(\"'\") for doc in candi_list.split(',')]\n",
        "    test_docIDs.update(doc_ids)\n",
        "\n",
        "#print(\"Length of test_docIDs: \", len(test_docIDs))\n",
        "\n",
        "# Extract docIDs corresponding to ClickPos from train_records\n",
        "train_docIDs = set()\n",
        "for _, row in train_records.iterrows():\n",
        "    candi_list = [doc.strip().strip(\"'\") for doc in row['CandiList'].split(',')]\n",
        "    click_pos = row['ClickPos']\n",
        "    if 0 <= click_pos <= len(candi_list):  # Ensure ClickPos is valid\n",
        "        train_docIDs.add(candi_list[click_pos])  # Zero-based index\n",
        "\n",
        "#print(\"Length of train_docIDs: \", len(train_docIDs))\n",
        "\n",
        "# Combine docIDs from test and train\n",
        "all_docIDs = test_docIDs.union(train_docIDs)\n",
        "\n",
        "# Filter collection.tsv\n",
        "filtered_collection = collection[collection['docID'].isin(all_docIDs)]\n",
        "\n",
        "# Save the filtered collection to a new file\n",
        "filtered_collection.to_csv('filtered_collection.tsv', sep='\\t', index=False, header=False)\n",
        "\n",
        "#print(f\"Filtered collection saved to 'filtered_collection.tsv'\")\n",
        "\n",
        "#print(len(all_docIDs))"
      ],
      "metadata": {
        "id": "LwZwR1Yh_p8d"
      },
      "execution_count": 30,
      "outputs": []
    },
    {
      "cell_type": "markdown",
      "source": [
        "# **Divide tsv file into separate lists for text and docIDs**"
      ],
      "metadata": {
        "id": "_tKa2Flb_wQS"
      }
    },
    {
      "cell_type": "code",
      "source": [
        "documents = filtered_collection['title'].tolist()#use document text content instead of document titles\n",
        "#documents = filtered_collection['text'].tolist()#use document titles instead of document text content\n",
        "documents_ids = filtered_collection['docID'].astype(str).tolist()\n",
        "#print(len(documents))\n",
        "#print(len(documents_ids))"
      ],
      "metadata": {
        "id": "ArKUOoMJ_1KO"
      },
      "execution_count": 31,
      "outputs": []
    },
    {
      "cell_type": "markdown",
      "source": [
        "# **Create Index (if not already created)**\n",
        "\n",
        "# Pass text content and docIDs as parameters"
      ],
      "metadata": {
        "id": "0GvQmlhi_5X0"
      }
    },
    {
      "cell_type": "code",
      "source": [
        "model = models.ColBERT(\n",
        "    model_name_or_path=\"lightonai/colbertv2.0\",\n",
        ")\n",
        "\n",
        "index = indexes.Voyager(\n",
        "    index_folder=\"pylate-index\",\n",
        "    index_name=\"index\",\n",
        "    override=True,\n",
        ")\n",
        "\n",
        "\n",
        "# Encode the documents\n",
        "documents_embeddings = model.encode(\n",
        "    documents,\n",
        "    #batch_size=32,\n",
        "    is_query=False, # Encoding documents\n",
        "    show_progress_bar=True,\n",
        ")\n",
        "\n",
        "#Create a dictionary of doc ids to doc embeddings\n",
        "id_to_embedding = dict(zip(documents_ids, documents_embeddings))"
      ],
      "metadata": {
        "colab": {
          "base_uri": "https://localhost:8080/",
          "height": 49,
          "referenced_widgets": [
            "6cde160637aa4414a6d3a37b3b236d91",
            "c08ac9bd91f24e64a096115992cd6156",
            "4873df0a42004bf49aa0b986c7eda9d4",
            "7814a8eaa2d04487a36fac25f27d78b5",
            "1864622247de44328575dc7395df705c",
            "99a2c838c0284d57892693720d524a5f",
            "e1ff7fd0de184b63addd74372c9da193",
            "e122358345f14d4a9fd2a9bff35772c2",
            "dcf008c85f7241debcf55b7690bb7953",
            "6d8acf247b0f4377bf79f95705b813fd",
            "b7f09cecdf6147b194e5496409844975"
          ]
        },
        "id": "zU4O0q-E_-4X",
        "outputId": "f60b0859-ae19-4ef5-c6a8-7d371a4bcdd4"
      },
      "execution_count": 32,
      "outputs": [
        {
          "output_type": "display_data",
          "data": {
            "text/plain": [
              "Encoding documents (bs=32):   0%|          | 0/26 [00:00<?, ?it/s]"
            ],
            "application/vnd.jupyter.widget-view+json": {
              "version_major": 2,
              "version_minor": 0,
              "model_id": "6cde160637aa4414a6d3a37b3b236d91"
            }
          },
          "metadata": {}
        }
      ]
    },
    {
      "cell_type": "code",
      "source": [
        "# Convert the collection DataFrame to a dictionary for faster lookups\n",
        "#CHANGE TO INCLUDE TEXT AND TITLE\n",
        "doc_content_dict = filtered_collection.set_index('docID')['title'].to_dict()#use titles\n",
        "#doc_content_dict = filtered_collection.set_index('docID')['text'].to_dict()#use texts"
      ],
      "metadata": {
        "id": "luSv5K7DAvwP"
      },
      "execution_count": 33,
      "outputs": []
    },
    {
      "cell_type": "code",
      "source": [
        "def preprocess_text(text):\n",
        "    # Lowercase\n",
        "    text = text.lower()\n",
        "\n",
        "    # Remove boilerplate phrases (example)\n",
        "    boilerplate_phrases = [\"copyright\", \"all rights reserved\", \"terms of service\"]\n",
        "    for phrase in boilerplate_phrases:\n",
        "        text = text.replace(phrase, \"\")\n",
        "\n",
        "    # Remove special characters\n",
        "    text = re.sub(r\"[^a-zA-Z0-9\\s]\", \" \", text)\n",
        "\n",
        "    # Remove extra whitespace\n",
        "    text = re.sub(r\"\\s+\", \" \", text).strip()\n",
        "\n",
        "    return text"
      ],
      "metadata": {
        "id": "ArmO_o0IA1YF"
      },
      "execution_count": 34,
      "outputs": []
    },
    {
      "cell_type": "markdown",
      "source": [
        "# **Organizing Query Records for Profile and Testing**\n",
        "\n",
        "\n",
        "\n",
        "\n",
        "*   For User Profile, need to obtain all clicked documents from train records against each User ID.\n",
        "*   For testing, need to store the CandiList and ClickPos for each query.\n",
        "\n",
        "* Clicked docIDs stored against each user in a dictionary bold text\n",
        "\n",
        "\n",
        "\n",
        "\n",
        "\n"
      ],
      "metadata": {
        "id": "0jS3uq4wALAM"
      }
    },
    {
      "cell_type": "code",
      "source": [
        "# Extract list of clicked docs for each user\n",
        "clicked_docs_by_user = {}\n",
        "for _, row in train_records.iterrows():\n",
        "    user_id = row['AnonID']\n",
        "    candi_list = [doc.strip(\"' \") for doc in row['CandiList'].strip('[]').split(',')]\n",
        "    click_pos = row['ClickPos']\n",
        "    if 0 <= click_pos < len(candi_list):\n",
        "        clicked_doc = candi_list[click_pos]\n",
        "        if user_id not in clicked_docs_by_user:\n",
        "            clicked_docs_by_user[user_id] = []\n",
        "        clicked_docs_by_user[user_id].append(clicked_doc)\n",
        "\n",
        "#print(\"Clicked docs by user:\")\n",
        "#print(clicked_docs_by_user)"
      ],
      "metadata": {
        "id": "ZFhfILFZAZGc"
      },
      "execution_count": 35,
      "outputs": []
    },
    {
      "cell_type": "markdown",
      "source": [
        "# **All clicked documents concatenated into a single string for user profile**"
      ],
      "metadata": {
        "id": "skdugP8ZBM1T"
      }
    },
    {
      "cell_type": "code",
      "source": [
        "user_profiles = {}\n",
        "\n",
        "# Iterate through each user and their associated documents\n",
        "for user, docs in clicked_docs_by_user.items():\n",
        "    concatenated_string = \"\"\n",
        "    for doc_name in docs:\n",
        "        # Retrieve the content from the dictionary\n",
        "        content = doc_content_dict.get(doc_name)\n",
        "        if content:\n",
        "            # content = preprocess_text(content)\n",
        "            concatenated_string += content + \" \"  # Add a space between concatenated content\n",
        "        else:\n",
        "            print(f\"Document {doc_name} not found in the collection.\")\n",
        "\n",
        "    # Remove trailing space and assign to the final output\n",
        "    user_profiles[user] = concatenated_string.strip()\n",
        "\n",
        "# Print the final output\n",
        "#print(json.dumps(user_profiles, indent=2))\n",
        "\n",
        "filename = \"user_profiles.json\"\n",
        "with open(filename, 'w') as file:\n",
        "  json.dump(user_profiles, file)\n"
      ],
      "metadata": {
        "colab": {
          "base_uri": "https://localhost:8080/"
        },
        "id": "ewPOMR2OBPrM",
        "outputId": "1fc2b3f0-6fc8-49bd-d2ba-ec8889c55d39"
      },
      "execution_count": 36,
      "outputs": [
        {
          "output_type": "stream",
          "name": "stdout",
          "text": [
            "Document d-6699 not found in the collection.\n",
            "Document d-5955 not found in the collection.\n",
            "Document d-6699 not found in the collection.\n"
          ]
        }
      ]
    },
    {
      "cell_type": "markdown",
      "source": [
        "# **User_queries = Queries to test bold text**\n",
        "\n",
        "\n",
        "\n"
      ],
      "metadata": {
        "id": "8RaAgZuYByrx"
      }
    },
    {
      "cell_type": "code",
      "source": [
        "#extract query, docs and clicked position into a dictionary\n",
        "#for each query, pass list of documents to rerank function\n",
        "\n",
        "user_queries = {}\n",
        "\n",
        "#for each user in test_records, extract each query and corresponding candilist, clickpos, and doccount\n",
        "\n",
        "for _, row in test_records.iterrows():\n",
        "    user_id = row[\"AnonID\"]\n",
        "    query = row[\"QueryIndex\"]\n",
        "    candilist = [c.strip().strip(\"'\") for c in row[\"CandiList\"].split(\",\")]\n",
        "    clickpos = row[\"ClickPos\"]\n",
        "    docscount = row[\"DocsCount\"]\n",
        "\n",
        "    if user_id not in user_queries:\n",
        "        user_queries[user_id] = {}\n",
        "\n",
        "    user_queries[user_id][query] = {\n",
        "        \"CandiList\": candilist,\n",
        "        \"ClickPos\": clickpos,\n",
        "        \"DocsCount\": docscount,\n",
        "    }\n",
        "\n",
        "#print(json.dumps(user_queries, indent=2))\n",
        "\n",
        "filename = \"user_queries.json\"\n",
        "with open(filename, 'w') as file:\n",
        "  json.dump(user_queries, file)"
      ],
      "metadata": {
        "id": "wZlnUYcRB566"
      },
      "execution_count": 37,
      "outputs": []
    },
    {
      "cell_type": "markdown",
      "source": [
        "# **Personalization - Chunking Queries**"
      ],
      "metadata": {
        "id": "nK5zAvYeCAHk"
      }
    },
    {
      "cell_type": "code",
      "source": [
        "nltk.download('punkt_tab')\n",
        "\n",
        "# Function to split a string into chunks of 32 tokens\n",
        "def chunk_user_profile(profile, chunk_size=32):\n",
        "    tokens = word_tokenize(profile)  # Tokenize the string\n",
        "    chunks = [\" \".join(tokens[i:i + chunk_size]) for i in range(0, len(tokens), chunk_size)]\n",
        "    return chunks"
      ],
      "metadata": {
        "colab": {
          "base_uri": "https://localhost:8080/"
        },
        "id": "0-bCde6iCGag",
        "outputId": "96ff5e18-e209-473f-fce6-3ad416bb5c45"
      },
      "execution_count": 38,
      "outputs": [
        {
          "output_type": "stream",
          "name": "stderr",
          "text": [
            "[nltk_data] Downloading package punkt_tab to /root/nltk_data...\n",
            "[nltk_data]   Package punkt_tab is already up-to-date!\n"
          ]
        }
      ]
    },
    {
      "cell_type": "markdown",
      "source": [
        "# **Functions for Evaluation Metrics**\n",
        "\n",
        "# Mean Reciprocal Rank"
      ],
      "metadata": {
        "id": "g4hVxnVQCM8Y"
      }
    },
    {
      "cell_type": "code",
      "source": [
        "def calculate_mrr(query_results, user_queries, new_candidate_lists):\n",
        "    reciprocal_ranks = []\n",
        "\n",
        "    # Iterate through each user and query\n",
        "    for user, queries in query_results.items():\n",
        "        # Convert user key to integer\n",
        "        user_id = int(user)\n",
        "\n",
        "        for query, results in queries.items():\n",
        "            # Extract the clicked document ID\n",
        "            original_click_pos = user_queries[user_id][query][\"ClickPos\"] # Access with integer key\n",
        "            original_candilist = user_queries[user_id][query][\"CandiList\"]\n",
        "\n",
        "            clicked_doc_id = original_candilist[original_click_pos]\n",
        "\n",
        "            new_candilist = new_candidate_lists[user][query]\n",
        "\n",
        "            # Extract new candidate list and find the rank of the clicked document\n",
        "            # new_candilist = [result[\"document_id\"] for result in results]\n",
        "            if clicked_doc_id and clicked_doc_id in new_candilist:\n",
        "                rank = new_candilist.index(clicked_doc_id) + 1  # Rank is 1-based\n",
        "                reciprocal_ranks.append(1 / rank)\n",
        "            else:\n",
        "                reciprocal_ranks.append(0)  # No relevant document found in new ranking\n",
        "\n",
        "    # Calculate MRR\n",
        "    mrr = sum(reciprocal_ranks) / len(reciprocal_ranks) if reciprocal_ranks else 0\n",
        "    return mrr\n"
      ],
      "metadata": {
        "id": "TrO1DuFBCZ48"
      },
      "execution_count": 39,
      "outputs": []
    },
    {
      "cell_type": "markdown",
      "source": [
        "# Click Position Changes"
      ],
      "metadata": {
        "id": "w-tpWZQHCc7v"
      }
    },
    {
      "cell_type": "code",
      "source": [
        "def evaluate_click_pos_changes(query_results, user_queries, new_candidate_lists):\n",
        "    improved = 0\n",
        "    worsened = 0\n",
        "    unchanged = 0\n",
        "    not_found = 0\n",
        "    total_queries = 0\n",
        "    user_click_pos = {}\n",
        "\n",
        "    # Iterate through each user and query\n",
        "    for user, queries in query_results.items():\n",
        "        user_id = int(user)\n",
        "        user_results = [0,0,0,0] #improved, worse, unchanged, not found\n",
        "        for query, results in queries.items():\n",
        "            total_queries += 1\n",
        "\n",
        "            # Extract the original and new click positions\n",
        "            original_click_pos = user_queries[user_id][query][\"ClickPos\"]\n",
        "            original_candilist = user_queries[user_id][query][\"CandiList\"]\n",
        "\n",
        "            clicked_doc_id = original_candilist[original_click_pos]\n",
        "            candi_list_for_this_query = new_candidate_lists[user][query]\n",
        "            # Determine the new click position\n",
        "            if clicked_doc_id and clicked_doc_id in candi_list_for_this_query:\n",
        "                new_click_pos = candi_list_for_this_query.index(clicked_doc_id)\n",
        "            else:\n",
        "                new_click_pos = -1  # Clicked document not found in the new ranking\n",
        "\n",
        "            # Compare click positions\n",
        "            if new_click_pos == -1:\n",
        "              not_found +=1\n",
        "              user_results[3] += 1\n",
        "            elif new_click_pos < original_click_pos:\n",
        "              improved += 1\n",
        "              user_results[0] += 1\n",
        "            elif new_click_pos > original_click_pos:\n",
        "              worsened += 1\n",
        "              user_results[1] += 1\n",
        "            else:\n",
        "              unchanged += 1\n",
        "              user_results[2] += 1\n",
        "\n",
        "        user_click_pos[user] = user_results\n",
        "    #print(\"Total queries: \", total_queries)\n",
        "\n",
        "    # Calculate percentages\n",
        "    improved_percent = (improved / total_queries) * 100 if total_queries > 0 else 0\n",
        "    worsened_percent = (worsened / total_queries) * 100 if total_queries > 0 else 0\n",
        "    unchanged_percent = (unchanged / total_queries) * 100 if total_queries > 0 else 0\n",
        "    not_found_percent = (not_found / total_queries) * 100 if total_queries > 0 else 0\n",
        "\n",
        "    return {\n",
        "        \"total_queries\": total_queries,\n",
        "        \"improved\": improved,\n",
        "        \"improved_percent\": improved_percent,\n",
        "        \"worsened\": worsened,\n",
        "        \"worsened_percent\": worsened_percent,\n",
        "        \"unchanged\": unchanged,\n",
        "        \"unchanged_percent\": unchanged_percent,\n",
        "        \"not_found\": not_found,\n",
        "        \"not_found_percent\": not_found_percent,\n",
        "        \"user_click_pos\": user_click_pos\n",
        "    }\n"
      ],
      "metadata": {
        "id": "o3Tjh4wnCihV"
      },
      "execution_count": 40,
      "outputs": []
    },
    {
      "cell_type": "markdown",
      "source": [
        "# **Saving  user queries with improved clicked-on document ranks**"
      ],
      "metadata": {
        "id": "RA-u64xDXO-4"
      }
    },
    {
      "cell_type": "code",
      "source": [
        "import json\n",
        "\n",
        "def save_personalization_improvements(\n",
        "    query_results,\n",
        "    user_queries,\n",
        "    new_candidate_lists,\n",
        "    output_path=\"personalization_improvements_by_user.json\",\n",
        "    min_queries_per_user=None, #Change here to control minimum viewed improved quries per user\n",
        "    max_users=None # Change here to control number of users to view\n",
        "):\n",
        "    \"\"\"\n",
        "    Finds users for whom personalization improves the rank of the clicked document.\n",
        "    For each such user, saves at least two improved queries to a JSON file grouped by user_id.\n",
        "    \"\"\"\n",
        "    improvements_by_user = {}\n",
        "\n",
        "    for user, queries in query_results.items():\n",
        "        user_id = int(user)\n",
        "        improved_queries = []\n",
        "\n",
        "        for query, results in queries.items():\n",
        "            original_click_pos = user_queries[user_id][query][\"ClickPos\"]\n",
        "            original_candilist = user_queries[user_id][query][\"CandiList\"]\n",
        "            clicked_doc_id = original_candilist[original_click_pos]\n",
        "\n",
        "            candi_list_for_this_query = new_candidate_lists[user][query]\n",
        "            if clicked_doc_id and clicked_doc_id in candi_list_for_this_query:\n",
        "                new_click_pos = candi_list_for_this_query.index(clicked_doc_id)\n",
        "            else:\n",
        "                new_click_pos = -1\n",
        "\n",
        "            # Check for improvement\n",
        "            if new_click_pos != -1 and new_click_pos < original_click_pos:\n",
        "                improved_queries.append({\n",
        "                    \"query\": query,\n",
        "                    \"clicked_doc_id\": clicked_doc_id,\n",
        "                    \"original_rank\": original_click_pos,\n",
        "                    \"new_rank\": new_click_pos,\n",
        "                    \"improvement\": original_click_pos - new_click_pos\n",
        "                })\n",
        "\n",
        "        if improved_queries:\n",
        "          # Keep only users with >= min_queries_per_user improved queries\n",
        "          # Sort by improvement (largest first)\n",
        "          improved_queries = sorted(improved_queries, key=lambda x: x[\"improvement\"], reverse=True)\n",
        "          if min_queries_per_user and len(improved_queries) >= min_queries_per_user:\n",
        "              improvements_by_user[user_id] = improved_queries[:min_queries_per_user]\n",
        "          else:\n",
        "            improvements_by_user[user_id] = improved_queries\n",
        "\n",
        "        # Stop once we have enough users\n",
        "        if max_users and len(improvements_by_user) >= max_users:\n",
        "            break\n",
        "\n",
        "    # Save to JSON\n",
        "    with open(output_path, \"w\") as f:\n",
        "        json.dump(improvements_by_user, f, indent=2)\n",
        "\n",
        "    print(f\"Saved personalization improvement examples for {len(improvements_by_user)} users to {output_path}\")\n",
        "    return improvements_by_user\n"
      ],
      "metadata": {
        "id": "5D1_bU1zXy47"
      },
      "execution_count": 58,
      "outputs": []
    },
    {
      "cell_type": "markdown",
      "source": [
        "# **Get User past queries**\n",
        "\n"
      ],
      "metadata": {
        "id": "IrEMZbsaDTLu"
      }
    },
    {
      "cell_type": "code",
      "source": [
        "user_query_history = train_records.groupby('AnonID')['QueryIndex'].apply(list)"
      ],
      "metadata": {
        "id": "M5imeph_DXUc"
      },
      "execution_count": 59,
      "outputs": []
    },
    {
      "cell_type": "markdown",
      "source": [
        "**Defining profile weigths**"
      ],
      "metadata": {
        "id": "abaBIzZ9DaPN"
      }
    },
    {
      "cell_type": "code",
      "source": [
        "# Define weight ranges for queries and documents\n",
        "weights = [(w, 1 - w) for w in [0.1 * i for i in range(11)]]  # (query_weight, doc_weight)\n",
        "#weights = [(0.0, 1.0)] #We have chosen the best weight combination\n",
        "#weights.append((1.0, 1.0))\n",
        "print(f\"Profile weights: {weights}\")"
      ],
      "metadata": {
        "colab": {
          "base_uri": "https://localhost:8080/"
        },
        "id": "X4jT9cwdDksw",
        "outputId": "f6841552-c797-40d0-f52c-557a534e74af"
      },
      "execution_count": 60,
      "outputs": [
        {
          "output_type": "stream",
          "name": "stdout",
          "text": [
            "Profile weights: [(0.0, 1.0), (0.1, 0.9), (0.2, 0.8), (0.30000000000000004, 0.7), (0.4, 0.6), (0.5, 0.5), (0.6000000000000001, 0.3999999999999999), (0.7000000000000001, 0.29999999999999993), (0.8, 0.19999999999999996), (0.9, 0.09999999999999998), (1.0, 0.0)]\n"
          ]
        }
      ]
    },
    {
      "cell_type": "markdown",
      "source": [
        "# **Actual personalization computation**"
      ],
      "metadata": {
        "id": "fQxHE4ZbDrJ9"
      }
    },
    {
      "cell_type": "code",
      "source": [
        "# Store results for analysis\n",
        "weight_results = []\n",
        "best_doc_weight, best_query_weight, best_mrr, best_click_position_changes, best_query_results  = 0.0, 0.0, 0.0, None, None\n",
        "# Iterate through each weight combination\n",
        "for weight_query, weight_doc in weights:\n",
        "    query_results = {}\n",
        "\n",
        "    for user in user_queries:\n",
        "        # Get user's past queries\n",
        "        user_profile_queries = user_query_history.get(user, [])  # Get past queries for the user\n",
        "        past_queries_text = \" [Q] \".join(user_profile_queries)  # Concatenate with '[Q]' token\n",
        "\n",
        "        # Get user's document content\n",
        "        user_profile_docs = user_profiles[user]  # The document content for the profile\n",
        "\n",
        "        # Chunk queries and docs separately\n",
        "        query_chunks = chunk_user_profile(f\"[Q] {past_queries_text}\")\n",
        "        doc_chunks = chunk_user_profile(f\"[DOC] {user_profile_docs}\")\n",
        "\n",
        "        query_dict = user_queries[user]\n",
        "        if user not in query_results:\n",
        "            query_results[user] = {}\n",
        "\n",
        "        for query in query_dict:\n",
        "            candidate_docIDs = query_dict[query]['CandiList']\n",
        "\n",
        "            # Initialize a list to store results for both query chunks and doc chunks\n",
        "            query_chunk_results = []\n",
        "            doc_chunk_results = []\n",
        "\n",
        "            query_chunks_embeddings = model.encode(\n",
        "                query_chunks,\n",
        "                is_query=True,\n",
        "            )\n",
        "\n",
        "            doc_chunks_embeddings = model.encode(\n",
        "                doc_chunks,\n",
        "                is_query=True,\n",
        "            )\n",
        "\n",
        "            # Retrieve embeddings only for candidate IDs (if they exist in the mapping)\n",
        "            filtered_candidate_docIDs = []\n",
        "            filtered_candidate_doc_embeddings = []\n",
        "\n",
        "            for doc_id in candidate_docIDs:\n",
        "                if doc_id in id_to_embedding:\n",
        "                    filtered_candidate_docIDs.append(doc_id)\n",
        "                    filtered_candidate_doc_embeddings.append(id_to_embedding[doc_id])\n",
        "\n",
        "            #candidate_doc_embeddings = [id_to_embedding[doc_id] for doc_id in candidate_docIDs if doc_id in id_to_embedding]\n",
        "            '''\n",
        "            print(f\"candidate doc len: {len(candidate_docIDs)}\")\n",
        "            print(f\"filtered candidate doc len: {len(filtered_candidate_docIDs)}\")\n",
        "            print(f\"candidate doc embeddings  len: {len(candidate_doc_embeddings)}\")\n",
        "            print()\n",
        "            '''\n",
        "            # Search for each query chunk\n",
        "            for chunk in query_chunks_embeddings:\n",
        "                query_chunk_results.extend(rank.rerank(\n",
        "                    documents_ids=[filtered_candidate_docIDs],\n",
        "                    queries_embeddings=chunk,\n",
        "                    documents_embeddings=[filtered_candidate_doc_embeddings]\n",
        "                )[0])\n",
        "\n",
        "            # Search for each document chunk\n",
        "            for chunk in doc_chunks_embeddings:\n",
        "                doc_chunk_results.extend(rank.rerank(\n",
        "                    documents_ids=[filtered_candidate_docIDs],\n",
        "                    queries_embeddings=chunk,\n",
        "                    documents_embeddings=[filtered_candidate_doc_embeddings]\n",
        "                )[0])\n",
        "            '''\n",
        "            print(f\"Query chunk results: {query_chunk_results}\")\n",
        "            print(f\"Doc chunk results: {doc_chunk_results}\")\n",
        "            print()\n",
        "            '''\n",
        "\n",
        "            # Aggregate results for query chunks\n",
        "            query_max_score_dict = {}\n",
        "            for result in query_chunk_results:\n",
        "                doc_id = result[\"id\"]\n",
        "                score = result[\"score\"]\n",
        "\n",
        "                if doc_id not in query_max_score_dict:\n",
        "                    query_max_score_dict[doc_id] = result\n",
        "                else:\n",
        "                    # Keep the entry with the higher score\n",
        "                    if score > query_max_score_dict[doc_id][\"score\"]:\n",
        "                        query_max_score_dict[doc_id] = result\n",
        "\n",
        "            # Aggregate results for document chunks\n",
        "            doc_max_score_dict = {}\n",
        "            for result in doc_chunk_results:\n",
        "                doc_id = result[\"id\"]\n",
        "                score = result[\"score\"]\n",
        "\n",
        "                if doc_id not in doc_max_score_dict:\n",
        "                    doc_max_score_dict[doc_id] = result\n",
        "                else:\n",
        "                    # Keep the entry with the higher score\n",
        "                    if score > doc_max_score_dict[doc_id][\"score\"]:\n",
        "                        doc_max_score_dict[doc_id] = result\n",
        "\n",
        "            # Combine query and doc chunk results with weights\n",
        "            combined_score_dict = {}\n",
        "\n",
        "            # Combine scores for each document\n",
        "            for doc_id in set(query_max_score_dict.keys()).union(doc_max_score_dict.keys()):\n",
        "                combined_score = 0.0\n",
        "                if doc_id in query_max_score_dict:\n",
        "                    combined_score += weight_query * query_max_score_dict[doc_id][\"score\"]\n",
        "                if doc_id in doc_max_score_dict:\n",
        "                    combined_score += weight_doc * doc_max_score_dict[doc_id][\"score\"]\n",
        "\n",
        "                combined_score_dict[doc_id] = {\n",
        "                    \"id\": doc_id,\n",
        "                    \"score\": combined_score\n",
        "                }\n",
        "\n",
        "            # Convert combined scores to a list and sort by score descending\n",
        "            aggregated_results = sorted(\n",
        "                combined_score_dict.values(),\n",
        "                key=lambda x: x[\"score\"],\n",
        "                reverse=True\n",
        "            )\n",
        "\n",
        "            # Store the final list\n",
        "            query_results[user][query] = aggregated_results\n",
        "\n",
        "    # Sort the documents in each query by their rank\n",
        "    sorted_query_results = {\n",
        "        user_id: {\n",
        "            query: sorted(docs, key=lambda x: x['score'], reverse=True)\n",
        "            for query, docs in queries.items()\n",
        "        }\n",
        "        for user_id, queries in query_results.items()\n",
        "    }\n",
        "\n",
        "    # Create new candidate lists\n",
        "    new_candidate_lists = {\n",
        "        user: {\n",
        "            query: [result['id'] for result in results]\n",
        "            for query, results in queries.items()\n",
        "        }\n",
        "        for user, queries in sorted_query_results.items()\n",
        "    }\n",
        "\n",
        "    # Calculate MRR and click position changes\n",
        "    mrr = calculate_mrr(sorted_query_results, user_queries, new_candidate_lists)\n",
        "    click_pos_changes = evaluate_click_pos_changes(sorted_query_results, user_queries, new_candidate_lists)\n",
        "\n",
        "    if mrr > best_mrr:\n",
        "        best_mrr = mrr\n",
        "        best_doc_weight = weight_doc\n",
        "        best_query_weight = weight_query\n",
        "        best_click_position_changes = click_pos_changes\n",
        "        best_query_results = sorted_query_results\n",
        "    '''\n",
        "    print(f\"Query weight: {weight_query}\")\n",
        "    print(f\"Doc weight: {weight_doc}\")\n",
        "    print(f\"MRR: {mrr}\")\n",
        "    print(f\"Click position changes: {click_pos_changes}\")\n",
        "    print()\n",
        "    '''\n",
        "    # Save results\n",
        "    weight_results.append({\n",
        "        \"weight_query\": weight_query,\n",
        "        \"weight_doc\": weight_doc,\n",
        "        \"mrr\": mrr,\n",
        "        \"click_pos_changes\": click_pos_changes\n",
        "    })\n",
        "\n",
        "print(\"Best results: \")\n",
        "print(f\"Query weight: {weight_query}\")\n",
        "print(f\"Doc weight: {best_doc_weight}\")\n",
        "print(f\"MRR: {best_mrr}\")\n",
        "print(f\"Click position changes: {best_click_position_changes}\")\n",
        "print(f\"Best query results: {best_query_results}\")\n",
        "print()\n"
      ],
      "metadata": {
        "colab": {
          "base_uri": "https://localhost:8080/"
        },
        "id": "FTsmzsbtEPtW",
        "outputId": "1f762bd4-077b-46c2-ed96-c23ec66a6685"
      },
      "execution_count": 61,
      "outputs": [
        {
          "output_type": "stream",
          "name": "stdout",
          "text": [
            "Best results: \n",
            "Query weight: 1.0\n",
            "Doc weight: 0.9\n",
            "MRR: 0.5270068027210885\n",
            "Click position changes: {'total_queries': 70, 'improved': 32, 'improved_percent': 45.714285714285715, 'worsened': 20, 'worsened_percent': 28.57142857142857, 'unchanged': 16, 'unchanged_percent': 22.857142857142858, 'not_found': 2, 'not_found_percent': 2.857142857142857, 'user_click_pos': {62917: [1, 1, 1, 0], 257689: [0, 1, 1, 0], 297468: [1, 0, 1, 0], 711391: [2, 1, 0, 0], 781341: [1, 1, 1, 0], 901695: [2, 0, 1, 0], 915996: [1, 1, 0, 1], 961732: [0, 1, 2, 0], 1117506: [1, 0, 1, 0], 1306380: [2, 0, 0, 0], 1424541: [2, 0, 1, 0], 1478898: [0, 0, 2, 0], 1510447: [1, 2, 0, 0], 1659408: [2, 1, 0, 0], 1702234: [2, 0, 0, 0], 1801284: [2, 1, 0, 0], 2226889: [1, 2, 0, 0], 2402080: [2, 0, 1, 0], 2439668: [2, 0, 1, 0], 2528943: [0, 2, 1, 0], 2752882: [1, 0, 0, 0], 3014747: [0, 3, 0, 0], 3097286: [0, 2, 1, 0], 3223920: [1, 0, 0, 0], 3327666: [1, 1, 0, 0], 3405054: [1, 0, 1, 0], 3483185: [1, 0, 0, 1], 3610850: [2, 0, 0, 0]}}\n",
            "Best query results: {62917: {'voiceover careers': [{'id': 'd-397725', 'score': 11.385906600952149}, {'id': 'd-397726', 'score': 10.371449756622315}, {'id': 'd-475789', 'score': 8.501546716690063}, {'id': 'd-38043', 'score': 7.281274032592774}, {'id': 'd-231061', 'score': 5.552829599380493}, {'id': 'd-491866', 'score': 4.949908494949341}, {'id': 'd-8552', 'score': 4.496170997619629}, {'id': 'd-767660', 'score': 4.1014412403106695}, {'id': 'd-726366', 'score': 3.8566344022750854}, {'id': 'd-175482', 'score': 3.7693884611129764}], 'johnny cash': [{'id': 'd-8272', 'score': 11.821356773376465}, {'id': 'd-622422', 'score': 10.355479907989503}, {'id': 'd-650051', 'score': 9.449419498443605}, {'id': 'd-133391', 'score': 8.851402091979981}, {'id': 'd-224275', 'score': 8.774566602706908}, {'id': 'd-8273', 'score': 8.264460611343384}, {'id': 'd-934389', 'score': 5.786372470855714}, {'id': 'd-30905', 'score': 5.35358247756958}, {'id': 'd-175005', 'score': 4.701809406280518}, {'id': 'd-826244', 'score': 4.085343313217163}], 'bengies drive in theatre': [{'id': 'd-38138', 'score': 7.59765133857727}, {'id': 'd-824305', 'score': 7.127908945083618}, {'id': 'd-446178', 'score': 4.74945855140686}, {'id': 'd-665465', 'score': 4.67596402168274}, {'id': 'd-580323', 'score': 4.599291753768921}, {'id': 'd-344275', 'score': 4.524751853942871}, {'id': 'd-951854', 'score': 4.143754291534424}, {'id': 'd-574289', 'score': 3.8635838985443116}, {'id': 'd-708910', 'score': 3.6191074609756475}]}, 257689: {'kalamazoo humane society': [{'id': 'd-112559', 'score': 14.164779472351075}, {'id': 'd-691182', 'score': 6.371505260467529}, {'id': 'd-453287', 'score': 4.348995161056519}, {'id': 'd-238802', 'score': 4.331453943252564}, {'id': 'd-873928', 'score': 4.244794607162476}, {'id': 'd-927208', 'score': 4.168991804122925}, {'id': 'd-132216', 'score': 4.021495914459228}, {'id': 'd-101741', 'score': 3.8797422647476196}, {'id': 'd-256082', 'score': 3.459796714782715}, {'id': 'd-903367', 'score': 3.391119623184204}], 'city of kalamazoo': [{'id': 'd-112537', 'score': 22.749658393859864}, {'id': 'd-564747', 'score': 21.720606040954593}, {'id': 'd-51960', 'score': 21.720606040954593}, {'id': 'd-17829', 'score': 19.54899425506592}, {'id': 'd-112512', 'score': 18.26012554168701}, {'id': 'd-744272', 'score': 17.6581787109375}, {'id': 'd-112553', 'score': 16.296312141418458}, {'id': 'd-183304', 'score': 16.090704441070557}, {'id': 'd-529827', 'score': 16.084650611877443}, {'id': 'd-415548', 'score': 13.658505058288576}]}, 297468: {'cspan.org': [{'id': 'd-275516', 'score': 11.17353367805481}, {'id': 'd-844458', 'score': 10.88394145965576}, {'id': 'd-7276', 'score': 8.494085502624513}, {'id': 'd-445929', 'score': 8.27912073135376}, {'id': 'd-6453', 'score': 7.674698543548584}, {'id': 'd-49372', 'score': 7.4605275154113775}, {'id': 'd-60343', 'score': 7.460526037216187}, {'id': 'd-133393', 'score': 7.400732469558716}, {'id': 'd-456273', 'score': 7.28629608154297}, {'id': 'd-195095', 'score': 6.846604347229004}], 'feedblitz': [{'id': 'd-124595', 'score': 14.404841136932374}, {'id': 'd-26011', 'score': 12.010004806518555}, {'id': 'd-899', 'score': 11.404244470596314}, {'id': 'd-302551', 'score': 10.51583423614502}, {'id': 'd-212294', 'score': 8.270578479766845}, {'id': 'd-935825', 'score': 8.270578479766845}, {'id': 'd-298249', 'score': 7.491869020462037}, {'id': 'd-441525', 'score': 7.457584619522095}, {'id': 'd-40250', 'score': 7.232172584533692}, {'id': 'd-593841', 'score': 7.169719314575195}]}, 711391: {'yahoo entertainment news': [{'id': 'd-180417', 'score': 7.953008031845093}, {'id': 'd-75487', 'score': 7.758053636550903}, {'id': 'd-20215', 'score': 7.758053636550903}, {'id': 'd-8018', 'score': 7.758053636550903}, {'id': 'd-5509', 'score': 7.758053636550903}, {'id': 'd-41227', 'score': 7.353210544586182}, {'id': 'd-8321', 'score': 7.346491003036499}, {'id': 'd-95458', 'score': 7.107322359085083}, {'id': 'd-145639', 'score': 7.107322359085083}, {'id': 'd-43787', 'score': 7.0611615657806395}], 'i love alaska': [{'id': 'd-423232', 'score': 16.069068717956544}, {'id': 'd-51817', 'score': 16.069068717956544}, {'id': 'd-226169', 'score': 13.81656436920166}, {'id': 'd-3215', 'score': 13.81656436920166}, {'id': 'd-195032', 'score': 13.70697898864746}, {'id': 'd-308815', 'score': 13.70697898864746}, {'id': 'd-441352', 'score': 13.395766067504884}, {'id': 'd-478380', 'score': 12.218789672851562}, {'id': 'd-545753', 'score': 12.105196285247803}, {'id': 'd-582143', 'score': 9.693781280517578}], 'yahoo entertainment': [{'id': 'd-16830', 'score': 9.040489912033081}, {'id': 'd-3831', 'score': 9.040489912033081}, {'id': 'd-5843', 'score': 9.040489912033081}, {'id': 'd-504993', 'score': 9.040489912033081}, {'id': 'd-815535', 'score': 8.771624279022218}, {'id': 'd-4938', 'score': 8.771624279022218}, {'id': 'd-30636', 'score': 8.771624279022218}, {'id': 'd-5139', 'score': 8.65547480583191}, {'id': 'd-909439', 'score': 8.65547480583191}, {'id': 'd-39539', 'score': 8.45018138885498}]}, 781341: {'wynn coonawarra shiraz': [{'id': 'd-240999', 'score': 19.66340570449829}, {'id': 'd-224631', 'score': 11.954039573669434}, {'id': 'd-565312', 'score': 10.892399501800536}, {'id': 'd-438182', 'score': 10.892399501800536}, {'id': 'd-631182', 'score': 9.529107809066774}, {'id': 'd-656142', 'score': 9.2203763961792}, {'id': 'd-333662', 'score': 7.868946695327759}, {'id': 'd-71925', 'score': 7.806363487243653}, {'id': 'd-648575', 'score': 7.285441303253174}, {'id': 'd-264539', 'score': 6.714373922348023}], 'rodney strong chalk hill chardonnay': [{'id': 'd-421566', 'score': 14.149816989898683}, {'id': 'd-656045', 'score': 10.874011993408203}, {'id': 'd-627646', 'score': 10.521626663208009}, {'id': 'd-643710', 'score': 9.407196617126466}, {'id': 'd-729226', 'score': 8.517691898345948}, {'id': 'd-241308', 'score': 8.463115882873536}, {'id': 'd-114137', 'score': 7.954893445968628}, {'id': 'd-415513', 'score': 7.296947908401489}, {'id': 'd-643222', 'score': 3.7588508605957034}, {'id': 'd-382047', 'score': 3.7588507652282717}], 'the ultimate wine cradle': [{'id': 'd-749680', 'score': 10.946166896820069}, {'id': 'd-240972', 'score': 10.3342679977417}, {'id': 'd-644869', 'score': 10.24302806854248}, {'id': 'd-455768', 'score': 9.736141395568849}, {'id': 'd-539145', 'score': 9.41616201400757}, {'id': 'd-875774', 'score': 9.22362494468689}, {'id': 'd-11121', 'score': 9.123584651947022}, {'id': 'd-417400', 'score': 8.366039037704468}, {'id': 'd-771117', 'score': 7.939793205261231}, {'id': 'd-926987', 'score': 7.263880825042725}]}, 901695: {'nintendo gamecube games': [{'id': 'd-2148', 'score': 6.3141743659973155}, {'id': 'd-21496', 'score': 6.3141743659973155}, {'id': 'd-210893', 'score': 6.3141743659973155}, {'id': 'd-200544', 'score': 6.3141743659973155}, {'id': 'd-913958', 'score': 6.3141743659973155}, {'id': 'd-518398', 'score': 6.3141743659973155}, {'id': 'd-944741', 'score': 6.3141743659973155}, {'id': 'd-59166', 'score': 6.3141743659973155}, {'id': 'd-782350', 'score': 6.3141743659973155}], 'immanuel first': [{'id': 'd-264604', 'score': 19.588478660583498}, {'id': 'd-407396', 'score': 19.53500328063965}, {'id': 'd-777078', 'score': 17.910384368896487}, {'id': 'd-898649', 'score': 16.81808204650879}, {'id': 'd-755979', 'score': 16.17182331085205}, {'id': 'd-897013', 'score': 15.68628978729248}, {'id': 'd-748759', 'score': 14.688435745239257}, {'id': 'd-790180', 'score': 12.700526809692382}, {'id': 'd-746077', 'score': 11.667168426513673}, {'id': 'd-835732', 'score': 8.702137756347657}], 'art center for kids': [{'id': 'd-264678', 'score': 10.165292549133301}, {'id': 'd-738383', 'score': 10.050953102111817}, {'id': 'd-419562', 'score': 9.601042079925538}, {'id': 'd-505996', 'score': 9.511074829101563}, {'id': 'd-675379', 'score': 9.494614601135254}, {'id': 'd-144302', 'score': 9.396509075164795}, {'id': 'd-262514', 'score': 8.70094051361084}, {'id': 'd-78508', 'score': 8.637601947784425}, {'id': 'd-454569', 'score': 8.637601947784425}, {'id': 'd-490004', 'score': 8.36925745010376}]}, 915996: {'youth hostels': [{'id': 'd-699016', 'score': 10.599855518341066}, {'id': 'd-34833', 'score': 9.4806209564209}, {'id': 'd-87379', 'score': 9.21263475418091}, {'id': 'd-398005', 'score': 8.085662078857423}, {'id': 'd-737322', 'score': 8.061339139938354}, {'id': 'd-293902', 'score': 8.061339139938354}, {'id': 'd-189785', 'score': 7.848096656799316}, {'id': 'd-479452', 'score': 7.346364307403565}, {'id': 'd-481917', 'score': 6.845582008361816}, {'id': 'd-354394', 'score': 6.352094841003418}], 'continental one pass': [{'id': 'd-168603', 'score': 7.340243577957153}, {'id': 'd-803862', 'score': 6.646258878707886}, {'id': 'd-733536', 'score': 6.508797073364258}, {'id': 'd-134831', 'score': 6.189284610748292}, {'id': 'd-771153', 'score': 5.0102067470550535}, {'id': 'd-810747', 'score': 4.774714279174805}, {'id': 'd-29210', 'score': 4.774714279174805}, {'id': 'd-1692', 'score': 4.774714279174805}, {'id': 'd-357480', 'score': 3.598651647567749}, {'id': 'd-559569', 'score': 3.598651432991028}], 'lands end': [{'id': 'd-459018', 'score': 10.743425369262697}, {'id': 'd-86475', 'score': 10.743425369262697}, {'id': 'd-775079', 'score': 10.590198326110839}, {'id': 'd-757107', 'score': 10.5631085395813}, {'id': 'd-144897', 'score': 8.318893337249756}, {'id': 'd-226217', 'score': 7.8713088035583505}, {'id': 'd-472194', 'score': 6.579473543167114}, {'id': 'd-594889', 'score': 6.423408126831054}, {'id': 'd-905013', 'score': 5.076704978942871}]}, 961732: {'uscis': [{'id': 'd-14018', 'score': 15.05952491760254}, {'id': 'd-14023', 'score': 15.05952491760254}, {'id': 'd-3484', 'score': 11.886582851409912}, {'id': 'd-199080', 'score': 11.754957389831544}, {'id': 'd-227976', 'score': 11.683852005004884}, {'id': 'd-554187', 'score': 11.38863172531128}, {'id': 'd-282691', 'score': 11.245524692535401}, {'id': 'd-399710', 'score': 10.765456008911134}, {'id': 'd-874562', 'score': 10.16666316986084}], 'pre trial motions harris county civil court': [{'id': 'd-85601', 'score': 11.392334270477296}, {'id': 'd-130558', 'score': 8.285548543930053}, {'id': 'd-247546', 'score': 8.04120512008667}, {'id': 'd-477707', 'score': 7.587901210784912}, {'id': 'd-799771', 'score': 7.394296503067016}, {'id': 'd-93029', 'score': 7.394296503067016}, {'id': 'd-276918', 'score': 7.148464632034302}, {'id': 'd-490814', 'score': 6.64480905532837}, {'id': 'd-925711', 'score': 5.224536561965943}], 'houston museum of fine arts': [{'id': 'd-276915', 'score': 25.150002098083494}, {'id': 'd-276983', 'score': 25.150002098083494}, {'id': 'd-866859', 'score': 22.302797698974608}, {'id': 'd-130040', 'score': 21.95950736999512}, {'id': 'd-130052', 'score': 18.245261383056643}, {'id': 'd-197831', 'score': 18.221110153198243}, {'id': 'd-116847', 'score': 17.518839263916014}, {'id': 'd-76596', 'score': 17.3570764541626}, {'id': 'd-917972', 'score': 17.154645156860354}, {'id': 'd-627904', 'score': 16.301555633544922}]}, 1117506: {'warren county virginia': [{'id': 'd-233753', 'score': 17.688920783996583}, {'id': 'd-455500', 'score': 12.85013198852539}, {'id': 'd-216302', 'score': 12.493738555908203}, {'id': 'd-377566', 'score': 11.774772644042969}, {'id': 'd-458455', 'score': 10.357517528533936}, {'id': 'd-224711', 'score': 9.537117195129396}, {'id': 'd-819172', 'score': 9.27186040878296}, {'id': 'd-154063', 'score': 8.308538246154786}, {'id': 'd-224713', 'score': 7.954657077789307}, {'id': 'd-365184', 'score': 7.308932352066041}], 'shenandoah cabinets': [{'id': 'd-63887', 'score': 17.605453300476075}, {'id': 'd-389378', 'score': 17.605453300476075}, {'id': 'd-453643', 'score': 9.016922855377198}, {'id': 'd-758986', 'score': 8.57970962524414}, {'id': 'd-786953', 'score': 8.368002891540527}, {'id': 'd-119117', 'score': 7.971304893493652}, {'id': 'd-452161', 'score': 7.429844617843628}, {'id': 'd-426631', 'score': 5.691946077346802}, {'id': 'd-470797', 'score': 5.264513635635376}, {'id': 'd-478623', 'score': 4.647387933731079}]}, 1306380: {'yahoo mail': [{'id': 'd-789496', 'score': 7.495805406570435}, {'id': 'd-88071', 'score': 7.495805406570435}, {'id': 'd-183370', 'score': 7.495805406570435}, {'id': 'd-827414', 'score': 7.495805406570435}, {'id': 'd-420844', 'score': 7.495805406570435}, {'id': 'd-741540', 'score': 7.495805406570435}, {'id': 'd-794390', 'score': 7.495805406570435}, {'id': 'd-3033', 'score': 7.495805406570435}, {'id': 'd-329691', 'score': 7.495805406570435}, {'id': 'd-659551', 'score': 7.495804977416992}], 'wireimage': [{'id': 'd-3789', 'score': 27.98823528289795}, {'id': 'd-297731', 'score': 14.962071609497071}, {'id': 'd-312452', 'score': 13.132913208007812}, {'id': 'd-200067', 'score': 12.731697750091552}, {'id': 'd-102133', 'score': 12.46560640335083}, {'id': 'd-152760', 'score': 12.46560640335083}, {'id': 'd-736062', 'score': 12.006661987304687}, {'id': 'd-722951', 'score': 10.936212348937987}, {'id': 'd-599943', 'score': 10.146998023986816}, {'id': 'd-61022', 'score': 9.832806396484376}]}, 1424541: {'popcorn recipes': [{'id': 'd-636694', 'score': 9.065781402587891}, {'id': 'd-823315', 'score': 8.5837158203125}, {'id': 'd-668386', 'score': 8.457229137420654}, {'id': 'd-814568', 'score': 7.895985698699952}, {'id': 'd-4232', 'score': 7.0971796989440925}, {'id': 'd-364044', 'score': 6.723239231109619}, {'id': 'd-64688', 'score': 5.239557218551636}, {'id': 'd-523343', 'score': 4.588801383972168}, {'id': 'd-660752', 'score': 4.588801383972168}], 'east bay calvary': [{'id': 'd-359473', 'score': 21.577406692504884}, {'id': 'd-15695', 'score': 14.06836919784546}, {'id': 'd-345684', 'score': 12.937588024139405}, {'id': 'd-767938', 'score': 12.897192287445069}, {'id': 'd-488275', 'score': 11.604681491851808}, {'id': 'd-432868', 'score': 10.78748254776001}, {'id': 'd-162506', 'score': 10.264060401916504}, {'id': 'd-197453', 'score': 10.05400152206421}, {'id': 'd-389296', 'score': 8.972135734558105}, {'id': 'd-949309', 'score': 8.972135734558105}], 'parents.com': [{'id': 'd-420384', 'score': 11.61390323638916}, {'id': 'd-217836', 'score': 11.61390323638916}, {'id': 'd-864969', 'score': 11.241872119903565}, {'id': 'd-230315', 'score': 9.330947589874269}, {'id': 'd-8094', 'score': 8.851232051849367}, {'id': 'd-37540', 'score': 8.851232051849367}, {'id': 'd-44421', 'score': 8.851231956481934}, {'id': 'd-85812', 'score': 8.851231956481934}, {'id': 'd-24614', 'score': 8.851231956481934}, {'id': 'd-688320', 'score': 8.785275983810424}]}, 1478898: {'the bible for today': [{'id': 'd-290796', 'score': 17.763442039489746}, {'id': 'd-368479', 'score': 16.25561389923096}, {'id': 'd-540850', 'score': 14.392689800262453}, {'id': 'd-656451', 'score': 13.409099292755128}, {'id': 'd-152717', 'score': 13.326970481872559}, {'id': 'd-65028', 'score': 12.795637321472167}, {'id': 'd-639103', 'score': 11.897249031066895}, {'id': 'd-674983', 'score': 11.433456897735596}, {'id': 'd-334277', 'score': 10.657312965393068}, {'id': 'd-263677', 'score': 9.103342247009278}], 'metart black': [{'id': 'd-768058', 'score': 11.943339538574218}, {'id': 'd-209681', 'score': 9.274631214141845}, {'id': 'd-873108', 'score': 6.198570585250855}, {'id': 'd-339201', 'score': 5.219956588745117}, {'id': 'd-195793', 'score': 5.219956588745117}, {'id': 'd-19322', 'score': 5.219956588745117}, {'id': 'd-652979', 'score': 5.219956588745117}, {'id': 'd-114821', 'score': 5.12834324836731}, {'id': 'd-799180', 'score': 4.950458765029908}, {'id': 'd-859339', 'score': 4.184350824356079}]}, 1510447: {'diet plans': [{'id': 'd-640608', 'score': 6.572516632080078}, {'id': 'd-893954', 'score': 6.572516632080078}, {'id': 'd-390601', 'score': 6.2618186473846436}, {'id': 'd-6950', 'score': 5.112133240699769}, {'id': 'd-67924', 'score': 5.112133240699769}, {'id': 'd-44717', 'score': 5.112133240699769}, {'id': 'd-867148', 'score': 4.422629499435425}, {'id': 'd-467259', 'score': 3.9348246097564696}, {'id': 'd-508344', 'score': 2.7216872215270995}], 'fleet feet running': [{'id': 'd-128175', 'score': 10.453284311294556}, {'id': 'd-264352', 'score': 10.453284311294556}, {'id': 'd-17190', 'score': 10.453284311294556}, {'id': 'd-774989', 'score': 9.830005788803101}, {'id': 'd-553806', 'score': 7.3254753112792965}, {'id': 'd-610188', 'score': 6.672248458862305}, {'id': 'd-187560', 'score': 5.1801595926284785}, {'id': 'd-413157', 'score': 4.5792855501174925}, {'id': 'd-843292', 'score': 4.5792855501174925}, {'id': 'd-830143', 'score': 4.5792855501174925}], 'running unlimited': [{'id': 'd-417150', 'score': 12.316805171966553}, {'id': 'd-814110', 'score': 10.859665393829346}, {'id': 'd-17187', 'score': 10.859665393829346}, {'id': 'd-554510', 'score': 8.85217742919922}, {'id': 'd-244902', 'score': 6.067117929458618}, {'id': 'd-436592', 'score': 5.3528298258781435}, {'id': 'd-116722', 'score': 5.32004680633545}, {'id': 'd-416183', 'score': 4.88084511756897}, {'id': 'd-906585', 'score': 3.4692607641220095}]}, 1659408: {'tioga pa': [{'id': 'd-259609', 'score': 11.961362648010255}, {'id': 'd-32500', 'score': 11.961362648010255}, {'id': 'd-348272', 'score': 8.974048805236816}, {'id': 'd-326121', 'score': 8.775811862945556}, {'id': 'd-398197', 'score': 8.420340442657471}, {'id': 'd-869575', 'score': 8.098280239105225}, {'id': 'd-614704', 'score': 6.327710819244385}, {'id': 'd-644159', 'score': 6.011832427978516}, {'id': 'd-536942', 'score': 5.565963077545167}], 'www.syracuse com': [{'id': 'd-30820', 'score': 14.83737144470215}, {'id': 'd-149088', 'score': 14.52995138168335}, {'id': 'd-524976', 'score': 12.455974006652832}, {'id': 'd-798906', 'score': 12.1022216796875}, {'id': 'd-211610', 'score': 11.179028701782226}, {'id': 'd-718654', 'score': 11.050698614120485}, {'id': 'd-472607', 'score': 8.655018615722657}, {'id': 'd-166630', 'score': 7.055375576019287}, {'id': 'd-604918', 'score': 6.748140287399292}, {'id': 'd-853861', 'score': 5.6167107105255125}], 'yahoo groups': [{'id': 'd-96020', 'score': 16.471068382263184}, {'id': 'd-364403', 'score': 16.471068382263184}, {'id': 'd-38778', 'score': 16.471068382263184}, {'id': 'd-892', 'score': 16.471068382263184}, {'id': 'd-45965', 'score': 16.471068382263184}, {'id': 'd-151539', 'score': 16.471068382263184}, {'id': 'd-607174', 'score': 16.471068382263184}, {'id': 'd-43235', 'score': 16.31362600326538}, {'id': 'd-288624', 'score': 16.174067783355714}, {'id': 'd-658337', 'score': 15.652771472930908}]}, 1702234: {'self esteem articles': [{'id': 'd-559530', 'score': 10.633145618438721}, {'id': 'd-156204', 'score': 9.207410526275636}, {'id': 'd-475937', 'score': 7.937800931930542}, {'id': 'd-210828', 'score': 7.717621755599977}, {'id': 'd-484614', 'score': 7.056643009185791}, {'id': 'd-185668', 'score': 7.027481460571289}, {'id': 'd-61823', 'score': 4.803829193115235}, {'id': 'd-61825', 'score': 4.803829193115235}, {'id': 'd-248951', 'score': 4.136154317855835}], 'daily news': [{'id': 'd-11218', 'score': 19.887961006164552}, {'id': 'd-476121', 'score': 14.135368061065675}, {'id': 'd-230612', 'score': 13.300594043731689}, {'id': 'd-584496', 'score': 13.18292760848999}, {'id': 'd-777802', 'score': 13.098539066314698}, {'id': 'd-169578', 'score': 12.744729614257814}, {'id': 'd-16157', 'score': 12.433609008789064}, {'id': 'd-19792', 'score': 12.237262535095216}, {'id': 'd-156521', 'score': 11.404815673828125}]}, 1801284: {'clairol': [{'id': 'd-550206', 'score': 13.186828231811525}, {'id': 'd-63978', 'score': 11.445190048217773}, {'id': 'd-46979', 'score': 11.445190048217773}, {'id': 'd-116450', 'score': 11.445190048217773}, {'id': 'd-411535', 'score': 10.662749624252319}, {'id': 'd-87803', 'score': 10.662749624252319}, {'id': 'd-461320', 'score': 8.340946483612061}, {'id': 'd-114249', 'score': 5.168297386169433}, {'id': 'd-922735', 'score': 4.375019145011902}, {'id': 'd-878310', 'score': 3.4856852769851687}], 'ulta': [{'id': 'd-33765', 'score': 14.114310121536255}, {'id': 'd-840971', 'score': 8.631792688369751}, {'id': 'd-592057', 'score': 7.679070949554443}, {'id': 'd-647832', 'score': 7.376114177703858}, {'id': 'd-660096', 'score': 7.211814022064209}, {'id': 'd-437048', 'score': 6.404793548583984}, {'id': 'd-232044', 'score': 6.318035125732422}, {'id': 'd-816332', 'score': 6.279881381988526}, {'id': 'd-564370', 'score': 5.589219474792481}, {'id': 'd-491334', 'score': 5.436921262741089}], 'jcpenney': [{'id': 'd-267416', 'score': 18.569689464569095}, {'id': 'd-892356', 'score': 18.569689464569095}, {'id': 'd-606672', 'score': 18.569689464569095}, {'id': 'd-37938', 'score': 18.569689464569095}, {'id': 'd-2745', 'score': 18.569689464569095}, {'id': 'd-26159', 'score': 18.569689464569095}, {'id': 'd-88093', 'score': 13.805664539337158}, {'id': 'd-634629', 'score': 9.721969127655031}, {'id': 'd-634644', 'score': 5.6543371200561525}, {'id': 'd-634628', 'score': 4.802380180358886}]}, 2226889: {'weather.com': [{'id': 'd-534767', 'score': 20.231081390380858}, {'id': 'd-37672', 'score': 20.23107795715332}, {'id': 'd-452162', 'score': 20.23107795715332}, {'id': 'd-631146', 'score': 20.23107795715332}, {'id': 'd-163377', 'score': 20.23107795715332}, {'id': 'd-344768', 'score': 20.23107795715332}, {'id': 'd-464087', 'score': 20.23107795715332}, {'id': 'd-543362', 'score': 20.23107795715332}, {'id': 'd-3548', 'score': 20.23107795715332}, {'id': 'd-238410', 'score': 20.23107795715332}], 'www.igncom': [{'id': 'd-9043', 'score': 9.616478538513183}, {'id': 'd-595322', 'score': 9.616478538513183}, {'id': 'd-211593', 'score': 9.616477584838867}, {'id': 'd-195263', 'score': 9.616477584838867}, {'id': 'd-364705', 'score': 9.616477584838867}, {'id': 'd-475197', 'score': 9.616477584838867}, {'id': 'd-25139', 'score': 9.616477584838867}, {'id': 'd-693038', 'score': 9.616477584838867}, {'id': 'd-848805', 'score': 9.431291198730468}, {'id': 'd-15459', 'score': 8.955851078033449}], 'fourseasons': [{'id': 'd-202539', 'score': 14.360638999938965}, {'id': 'd-7850', 'score': 14.360638999938965}, {'id': 'd-281366', 'score': 14.360638999938965}, {'id': 'd-98099', 'score': 10.69427661895752}, {'id': 'd-629041', 'score': 10.387709331512452}, {'id': 'd-50445', 'score': 10.124059677124023}, {'id': 'd-613347', 'score': 9.007261276245117}, {'id': 'd-839194', 'score': 8.761869335174561}, {'id': 'd-922519', 'score': 8.28698902130127}]}, 2402080: {'www.google.com': [{'id': 'd-393', 'score': 24.965057373046875}, {'id': 'd-950909', 'score': 24.772443771362305}, {'id': 'd-194424', 'score': 23.951062202453613}, {'id': 'd-44667', 'score': 23.86592674255371}, {'id': 'd-462160', 'score': 21.525295448303222}, {'id': 'd-249425', 'score': 17.840171813964844}, {'id': 'd-558042', 'score': 16.594472312927245}, {'id': 'd-146351', 'score': 15.20210666656494}, {'id': 'd-471275', 'score': 12.873579025268555}], 'baden baden weather in germany': [{'id': 'd-312617', 'score': 13.631090641021729}, {'id': 'd-132804', 'score': 13.631090641021729}, {'id': 'd-539823', 'score': 12.52796106338501}, {'id': 'd-716812', 'score': 11.465366744995118}, {'id': 'd-342714', 'score': 10.56154990196228}, {'id': 'd-839846', 'score': 9.417231273651124}, {'id': 'd-127224', 'score': 9.167106437683106}, {'id': 'd-97311', 'score': 9.0118145942688}, {'id': 'd-283166', 'score': 7.231434535980225}, {'id': 'd-13036', 'score': 5.904031801223755}], 'www.yahoo.com': [{'id': 'd-947016', 'score': 14.011280250549316}, {'id': 'd-291283', 'score': 13.999631309509278}, {'id': 'd-157949', 'score': 13.342326068878174}, {'id': 'd-346430', 'score': 13.191499328613283}, {'id': 'd-8604', 'score': 13.187171173095702}, {'id': 'd-35781', 'score': 12.944216728210451}, {'id': 'd-56685', 'score': 12.683897018432617}, {'id': 'd-10982', 'score': 12.061978626251221}, {'id': 'd-38778', 'score': 9.857164764404297}]}, 2439668: {'garden watchdog': [{'id': 'd-534154', 'score': 18.221061801910402}, {'id': 'd-1765', 'score': 18.221061801910402}, {'id': 'd-431078', 'score': 18.221061801910402}, {'id': 'd-79783', 'score': 14.496032428741454}, {'id': 'd-216607', 'score': 13.580919313430787}, {'id': 'd-783748', 'score': 13.159022998809814}, {'id': 'd-553509', 'score': 12.378640937805176}, {'id': 'd-115937', 'score': 11.575224781036377}, {'id': 'd-421629', 'score': 10.847545766830445}], 'jacksonville state university athletic directory': [{'id': 'd-117031', 'score': 17.715076351165774}, {'id': 'd-674703', 'score': 17.7095911026001}, {'id': 'd-534209', 'score': 17.05583324432373}, {'id': 'd-72794', 'score': 17.055831336975096}, {'id': 'd-820655', 'score': 16.916218566894532}, {'id': 'd-71014', 'score': 16.824119567871094}, {'id': 'd-72786', 'score': 16.656821727752686}, {'id': 'd-120265', 'score': 16.646772861480713}, {'id': 'd-638558', 'score': 16.635793876647952}, {'id': 'd-64004', 'score': 10.832923984527588}], 'university of florida athletics staff': [{'id': 'd-3353', 'score': 18.080708980560306}, {'id': 'd-180330', 'score': 18.080708980560306}, {'id': 'd-624032', 'score': 18.080708980560306}, {'id': 'd-156654', 'score': 18.080708980560306}, {'id': 'd-9675', 'score': 17.07179527282715}, {'id': 'd-313550', 'score': 15.725299453735351}, {'id': 'd-505571', 'score': 12.388486576080323}, {'id': 'd-23185', 'score': 12.388486576080323}, {'id': 'd-160894', 'score': 11.749770832061767}, {'id': 'd-734919', 'score': 9.23866310119629}]}, 2528943: {'kingston chamber music festival': [{'id': 'd-519934', 'score': 16.763942813873292}, {'id': 'd-304727', 'score': 13.812294197082519}, {'id': 'd-519951', 'score': 13.705101490020752}, {'id': 'd-424467', 'score': 13.611076736450197}, {'id': 'd-374342', 'score': 12.90810432434082}, {'id': 'd-374321', 'score': 12.90810432434082}, {'id': 'd-141010', 'score': 12.754975128173829}, {'id': 'd-117474', 'score': 12.016154384613037}, {'id': 'd-836951', 'score': 10.818929290771484}, {'id': 'd-492565', 'score': 9.139141178131103}], 'ana': [{'id': 'd-241071', 'score': 4.180259752273559}, {'id': 'd-365834', 'score': 4.143441820144654}, {'id': 'd-220046', 'score': 3.5953298807144165}, {'id': 'd-714861', 'score': 3.425807332992554}, {'id': 'd-33786', 'score': 2.8749564409255983}, {'id': 'd-343055', 'score': 2.8533108949661257}, {'id': 'd-209596', 'score': 2.475689744949341}, {'id': 'd-813858', 'score': 2.3799530029296876}, {'id': 'd-226755', 'score': 1.4094805240631103}, {'id': 'd-914368', 'score': 1.4094805240631103}], 'kurt rohde': [{'id': 'd-224123', 'score': 9.691033172607423}, {'id': 'd-428097', 'score': 7.473394775390625}, {'id': 'd-827918', 'score': 6.902006626129151}, {'id': 'd-540671', 'score': 6.437501049041749}, {'id': 'd-519938', 'score': 6.290174198150636}, {'id': 'd-899998', 'score': 5.991053247451783}, {'id': 'd-206393', 'score': 5.762312364578247}, {'id': 'd-750898', 'score': 5.264112901687623}, {'id': 'd-179028', 'score': 3.5407559394836428}]}, 2752882: {'continental': [{'id': 'd-733536', 'score': 9.350529289245607}, {'id': 'd-810747', 'score': 8.781635284423828}, {'id': 'd-29210', 'score': 8.781635284423828}, {'id': 'd-1692', 'score': 8.781635284423828}, {'id': 'd-803862', 'score': 8.498833751678466}, {'id': 'd-168603', 'score': 8.42470474243164}, {'id': 'd-771153', 'score': 8.132167339324951}, {'id': 'd-134831', 'score': 7.074521064758301}, {'id': 'd-357480', 'score': 6.7131751537322994}, {'id': 'd-559569', 'score': 6.713173866271973}]}, 3014747: {'jolly jumper': [{'id': 'd-775064', 'score': 9.350326442718506}, {'id': 'd-11910', 'score': 7.891040563583374}, {'id': 'd-694768', 'score': 6.474526071548462}, {'id': 'd-869614', 'score': 6.474526071548462}, {'id': 'd-844464', 'score': 5.303716897964478}, {'id': 'd-394642', 'score': 4.064828300476075}, {'id': 'd-296105', 'score': 3.972179961204529}, {'id': 'd-666128', 'score': 3.9623059272766112}, {'id': 'd-11909', 'score': 3.9013580560684202}, {'id': 'd-311582', 'score': 3.4118262052536013}], '97.1 wash radio fm in washington dc': [{'id': 'd-281045', 'score': 14.414229393005371}, {'id': 'd-9311', 'score': 14.3346399307251}, {'id': 'd-114084', 'score': 14.130746841430664}, {'id': 'd-367788', 'score': 14.130746841430664}, {'id': 'd-939625', 'score': 13.328942775726318}, {'id': 'd-889543', 'score': 10.03440227508545}, {'id': 'd-394380', 'score': 10.03440227508545}, {'id': 'd-821639', 'score': 9.388337612152101}, {'id': 'd-866787', 'score': 8.568968868255617}, {'id': 'd-924856', 'score': 8.06727776527405}], 'mexican music': [{'id': 'd-841788', 'score': 9.687414360046388}, {'id': 'd-743227', 'score': 9.384941673278808}, {'id': 'd-202427', 'score': 8.027900695800781}, {'id': 'd-133269', 'score': 7.761288356781006}, {'id': 'd-720945', 'score': 7.287063074111939}, {'id': 'd-179950', 'score': 6.941470527648926}, {'id': 'd-64032', 'score': 6.758745813369751}, {'id': 'd-64030', 'score': 6.053689241409302}, {'id': 'd-737848', 'score': 5.4763809680938715}, {'id': 'd-737845', 'score': 5.4763809680938715}]}, 3097286: {'myfamily.com': [{'id': 'd-863548', 'score': 11.129363346099852}, {'id': 'd-314491', 'score': 10.169568824768067}, {'id': 'd-836841', 'score': 6.773334264755249}, {'id': 'd-917424', 'score': 4.648315048217774}, {'id': 'd-648', 'score': 4.648315048217774}, {'id': 'd-9', 'score': 4.648315048217774}, {'id': 'd-422291', 'score': 4.648315048217774}, {'id': 'd-126065', 'score': 4.648315048217774}, {'id': 'd-2213', 'score': 4.648315048217774}, {'id': 'd-79427', 'score': 4.648315048217774}], 'new jersey transit': [{'id': 'd-31000', 'score': 23.945557212829588}, {'id': 'd-760797', 'score': 20.71483535766602}, {'id': 'd-248182', 'score': 17.403819847106934}, {'id': 'd-23000', 'score': 15.38254909515381}, {'id': 'd-534782', 'score': 14.155786418914795}, {'id': 'd-74608', 'score': 13.709505558013916}, {'id': 'd-508743', 'score': 12.73604907989502}, {'id': 'd-138308', 'score': 11.919327354431152}], 'tucson botanical gardens': [{'id': 'd-381008', 'score': 7.792752313613891}, {'id': 'd-64175', 'score': 7.3098818302154545}, {'id': 'd-112870', 'score': 7.121359634399415}, {'id': 'd-686754', 'score': 5.340386486053467}, {'id': 'd-333351', 'score': 5.340386486053467}, {'id': 'd-674830', 'score': 5.266345119476318}, {'id': 'd-79521', 'score': 5.266345119476318}, {'id': 'd-469523', 'score': 5.020271825790406}, {'id': 'd-192563', 'score': 4.970754909515381}, {'id': 'd-699107', 'score': 4.540301322937012}]}, 3223920: {'goldpoints': [{'id': 'd-169112', 'score': 28.51675968170166}, {'id': 'd-898314', 'score': 18.164683914184568}, {'id': 'd-228266', 'score': 16.66094856262207}, {'id': 'd-201751', 'score': 14.426171588897706}, {'id': 'd-151070', 'score': 14.22019338607788}, {'id': 'd-387531', 'score': 14.195879459381104}, {'id': 'd-93299', 'score': 13.19195308685303}, {'id': 'd-399994', 'score': 12.490025901794436}, {'id': 'd-151641', 'score': 12.309200668334963}, {'id': 'd-942927', 'score': 11.271123313903809}]}, 3327666: {'craigslist.org': [{'id': 'd-12170', 'score': 9.168747329711914}, {'id': 'd-41854', 'score': 9.153279685974121}, {'id': 'd-73760', 'score': 9.143262577056884}, {'id': 'd-388147', 'score': 9.02943859100342}, {'id': 'd-194800', 'score': 8.961566734313966}, {'id': 'd-7174', 'score': 8.941082286834718}, {'id': 'd-1326', 'score': 8.941082286834718}, {'id': 'd-566424', 'score': 8.814649391174317}, {'id': 'd-167798', 'score': 8.589768600463866}, {'id': 'd-605579', 'score': 8.55204725265503}], 'mizuno': [{'id': 'd-17185', 'score': 15.087020587921142}, {'id': 'd-28199', 'score': 15.087020587921142}, {'id': 'd-573319', 'score': 15.087020587921142}, {'id': 'd-235828', 'score': 13.118743324279786}, {'id': 'd-399443', 'score': 12.729542446136474}, {'id': 'd-929279', 'score': 10.742072010040284}, {'id': 'd-613599', 'score': 10.657682132720947}, {'id': 'd-74712', 'score': 9.859709072113038}, {'id': 'd-648485', 'score': 9.342212677001953}, {'id': 'd-374619', 'score': 9.1364164352417}]}, 3405054: {'stevens memorial library': [{'id': 'd-622067', 'score': 22.796491241455076}, {'id': 'd-323598', 'score': 16.78460578918457}, {'id': 'd-782254', 'score': 16.667477226257326}, {'id': 'd-915630', 'score': 16.096723079681396}, {'id': 'd-435693', 'score': 16.088848972320555}, {'id': 'd-372966', 'score': 16.028251075744627}, {'id': 'd-562652', 'score': 15.963135433197023}, {'id': 'd-607242', 'score': 15.831706047058105}, {'id': 'd-412088', 'score': 15.48543872833252}, {'id': 'd-411235', 'score': 15.271414184570313}], 'kennedy library': [{'id': 'd-372966', 'score': 16.028251075744627}, {'id': 'd-36452', 'score': 14.97358341217041}, {'id': 'd-14806', 'score': 14.488010787963868}, {'id': 'd-66435', 'score': 13.369561672210693}, {'id': 'd-725498', 'score': 12.926180839538574}, {'id': 'd-687917', 'score': 12.624350547790527}, {'id': 'd-137887', 'score': 11.345404720306396}, {'id': 'd-251085', 'score': 11.089725399017334}, {'id': 'd-546874', 'score': 10.18361806869507}]}, 3483185: {\"denny's restaurants\": [{'id': 'd-729869', 'score': 13.16903600692749}, {'id': 'd-168969', 'score': 9.40664110183716}, {'id': 'd-133504', 'score': 8.71849946975708}, {'id': 'd-581075', 'score': 7.766887235641479}, {'id': 'd-738249', 'score': 7.654570484161377}, {'id': 'd-296950', 'score': 7.563727855682373}, {'id': 'd-109894', 'score': 7.055759906768799}, {'id': 'd-752727', 'score': 4.744629168510437}], 'craigslist miami': [{'id': 'd-24061', 'score': 19.821367454528808}, {'id': 'd-640276', 'score': 18.344332218170166}, {'id': 'd-145968', 'score': 18.198752784729002}, {'id': 'd-83524', 'score': 18.04159679412842}, {'id': 'd-87914', 'score': 18.028672695159912}, {'id': 'd-65121', 'score': 18.023243045806886}, {'id': 'd-40730', 'score': 17.966363143920898}, {'id': 'd-23952', 'score': 17.892489528656004}, {'id': 'd-320980', 'score': 17.87241678237915}, {'id': 'd-496135', 'score': 17.64810800552368}]}, 3610850: {'maps google': [{'id': 'd-281509', 'score': 13.246557521820069}, {'id': 'd-811641', 'score': 13.24655704498291}, {'id': 'd-2469', 'score': 13.24655704498291}, {'id': 'd-60655', 'score': 13.24655704498291}, {'id': 'd-215956', 'score': 13.24655704498291}, {'id': 'd-594136', 'score': 13.24655704498291}, {'id': 'd-60654', 'score': 13.24655704498291}, {'id': 'd-335450', 'score': 13.24655704498291}, {'id': 'd-39974', 'score': 13.24655704498291}, {'id': 'd-91495', 'score': 13.067379665374755}], 'google maps': [{'id': 'd-281509', 'score': 13.246557521820069}, {'id': 'd-811641', 'score': 13.24655704498291}, {'id': 'd-2469', 'score': 13.24655704498291}, {'id': 'd-60655', 'score': 13.24655704498291}, {'id': 'd-215956', 'score': 13.24655704498291}, {'id': 'd-594136', 'score': 13.24655704498291}, {'id': 'd-60654', 'score': 13.24655704498291}, {'id': 'd-335450', 'score': 13.24655704498291}, {'id': 'd-39974', 'score': 13.24655704498291}, {'id': 'd-91495', 'score': 13.067379665374755}]}}\n",
            "\n"
          ]
        }
      ]
    },
    {
      "cell_type": "code",
      "source": [
        "#Find queries for which rank of clicked on document improves\n",
        "improved_results = save_personalization_improvements(\n",
        "    query_results=best_query_results,\n",
        "    user_queries=user_queries,\n",
        "    new_candidate_lists=new_candidate_lists\n",
        ")\n",
        "#print(f\"Improved results: {improved_results}\")"
      ],
      "metadata": {
        "colab": {
          "base_uri": "https://localhost:8080/"
        },
        "id": "LSWp7EwLaNCY",
        "outputId": "a47a21f9-8698-4b79-ab63-0e26d411d147"
      },
      "execution_count": 62,
      "outputs": [
        {
          "output_type": "stream",
          "name": "stdout",
          "text": [
            "Saved personalization improvement examples for 15 users to personalization_improvements_by_user.json\n"
          ]
        }
      ]
    },
    {
      "cell_type": "markdown",
      "source": [
        "# **View users and queries with improved rank of clicked on document**"
      ],
      "metadata": {
        "id": "oPiB0eP_sWJN"
      }
    },
    {
      "cell_type": "code",
      "source": [
        "\n",
        "for user, queries in improved_results.items():\n",
        "  print(f\"Improved queries for user {user}: \")\n",
        "  for i, query in enumerate(queries):\n",
        "    print(f\"({i+1}) {query}\")\n",
        "  print()\n"
      ],
      "metadata": {
        "colab": {
          "base_uri": "https://localhost:8080/"
        },
        "id": "o3NW1Q3pejWL",
        "outputId": "f320663a-d6d2-41d3-bc35-6aef008164d7"
      },
      "execution_count": 63,
      "outputs": [
        {
          "output_type": "stream",
          "name": "stdout",
          "text": [
            "Improved queries for user 297468: \n",
            "(1) {'query': 'cspan.org', 'clicked_doc_id': 'd-60343', 'original_rank': 6, 'new_rank': 4, 'improvement': 2}\n",
            "(2) {'query': 'feedblitz', 'clicked_doc_id': 'd-124595', 'original_rank': 1, 'new_rank': 0, 'improvement': 1}\n",
            "\n",
            "Improved queries for user 711391: \n",
            "(1) {'query': 'i love alaska', 'clicked_doc_id': 'd-226169', 'original_rank': 5, 'new_rank': 0, 'improvement': 5}\n",
            "(2) {'query': 'yahoo entertainment news', 'clicked_doc_id': 'd-5509', 'original_rank': 5, 'new_rank': 3, 'improvement': 2}\n",
            "\n",
            "Improved queries for user 781341: \n",
            "(1) {'query': 'the ultimate wine cradle', 'clicked_doc_id': 'd-240972', 'original_rank': 5, 'new_rank': 4, 'improvement': 1}\n",
            "\n",
            "Improved queries for user 901695: \n",
            "(1) {'query': 'nintendo gamecube games', 'clicked_doc_id': 'd-2148', 'original_rank': 5, 'new_rank': 0, 'improvement': 5}\n",
            "(2) {'query': 'art center for kids', 'clicked_doc_id': 'd-264678', 'original_rank': 5, 'new_rank': 4, 'improvement': 1}\n",
            "\n",
            "Improved queries for user 915996: \n",
            "(1) {'query': 'youth hostels', 'clicked_doc_id': 'd-34833', 'original_rank': 5, 'new_rank': 2, 'improvement': 3}\n",
            "\n",
            "Improved queries for user 1117506: \n",
            "(1) {'query': 'warren county virginia', 'clicked_doc_id': 'd-233753', 'original_rank': 5, 'new_rank': 2, 'improvement': 3}\n",
            "\n",
            "Improved queries for user 1659408: \n",
            "(1) {'query': 'tioga pa', 'clicked_doc_id': 'd-259609', 'original_rank': 8, 'new_rank': 0, 'improvement': 8}\n",
            "(2) {'query': 'www.syracuse com', 'clicked_doc_id': 'd-30820', 'original_rank': 5, 'new_rank': 1, 'improvement': 4}\n",
            "\n",
            "Improved queries for user 1702234: \n",
            "(1) {'query': 'self esteem articles', 'clicked_doc_id': 'd-156204', 'original_rank': 5, 'new_rank': 1, 'improvement': 4}\n",
            "(2) {'query': 'daily news', 'clicked_doc_id': 'd-11218', 'original_rank': 5, 'new_rank': 1, 'improvement': 4}\n",
            "\n",
            "Improved queries for user 1801284: \n",
            "(1) {'query': 'ulta', 'clicked_doc_id': 'd-33765', 'original_rank': 5, 'new_rank': 2, 'improvement': 3}\n",
            "(2) {'query': 'jcpenney', 'clicked_doc_id': 'd-2745', 'original_rank': 5, 'new_rank': 4, 'improvement': 1}\n",
            "\n",
            "Improved queries for user 2226889: \n",
            "(1) {'query': 'fourseasons', 'clicked_doc_id': 'd-7850', 'original_rank': 7, 'new_rank': 3, 'improvement': 4}\n",
            "\n",
            "Improved queries for user 2402080: \n",
            "(1) {'query': 'www.yahoo.com', 'clicked_doc_id': 'd-291283', 'original_rank': 5, 'new_rank': 1, 'improvement': 4}\n",
            "\n",
            "Improved queries for user 2439668: \n",
            "(1) {'query': 'university of florida athletics staff', 'clicked_doc_id': 'd-3353', 'original_rank': 5, 'new_rank': 0, 'improvement': 5}\n",
            "(2) {'query': 'garden watchdog', 'clicked_doc_id': 'd-1765', 'original_rank': 5, 'new_rank': 4, 'improvement': 1}\n",
            "\n",
            "Improved queries for user 3327666: \n",
            "(1) {'query': 'mizuno', 'clicked_doc_id': 'd-17185', 'original_rank': 4, 'new_rank': 0, 'improvement': 4}\n",
            "\n",
            "Improved queries for user 3405054: \n",
            "(1) {'query': 'kennedy library', 'clicked_doc_id': 'd-14806', 'original_rank': 5, 'new_rank': 3, 'improvement': 2}\n",
            "\n",
            "Improved queries for user 3610850: \n",
            "(1) {'query': 'maps google', 'clicked_doc_id': 'd-2469', 'original_rank': 8, 'new_rank': 1, 'improvement': 7}\n",
            "(2) {'query': 'google maps', 'clicked_doc_id': 'd-2469', 'original_rank': 8, 'new_rank': 1, 'improvement': 7}\n",
            "\n"
          ]
        }
      ]
    },
    {
      "cell_type": "markdown",
      "source": [
        "#**Plot results**\n"
      ],
      "metadata": {
        "id": "S8Ok0uFtFDRu"
      }
    },
    {
      "cell_type": "code",
      "source": [
        "# Plot the results\n",
        "mrr_values = [res[\"mrr\"] for res in weight_results]\n",
        "query_weights = [res[\"weight_query\"] for res in weight_results]\n",
        "improved_percentages = [res[\"click_pos_changes\"][\"improved_percent\"] for res in weight_results]\n",
        "\n",
        "# Plot MRR vs. query weight\n",
        "plt.figure()\n",
        "plt.plot(query_weights, mrr_values, marker='o')\n",
        "plt.title(\"MRR vs. Query Weight\")\n",
        "plt.xlabel(\"Query Weight\")\n",
        "plt.ylabel(\"MRR\")\n",
        "plt.grid(True)\n",
        "plt.show()\n",
        "# Plot Improved Click Percentage vs. Query Weight\n",
        "plt.figure()\n",
        "plt.plot(query_weights, improved_percentages, marker='o', color='orange')\n",
        "plt.title(\"Improved Click Percentage vs. Query Weight\")\n",
        "plt.xlabel(\"Query Weight\")\n",
        "plt.ylabel(\"Improved Percentage\")\n",
        "plt.grid(True)\n",
        "plt.show()"
      ],
      "metadata": {
        "colab": {
          "base_uri": "https://localhost:8080/",
          "height": 927
        },
        "id": "buqIVfxmFLd9",
        "outputId": "a0c61bd2-b52c-4778-dc05-15604effb38b"
      },
      "execution_count": 64,
      "outputs": [
        {
          "output_type": "display_data",
          "data": {
            "text/plain": [
              "<Figure size 640x480 with 1 Axes>"
            ],
            "image/png": "[encoded data removed]"
          },
          "metadata": {}
        },
        {
          "output_type": "display_data",
          "data": {
            "text/plain": [
              "<Figure size 640x480 with 1 Axes>"
            ],
            "image/png": "[encoded data removed]"
          },
          "metadata": {}
        }
      ]
    }
  ]
}